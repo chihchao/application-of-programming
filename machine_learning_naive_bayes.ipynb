{
  "nbformat": 4,
  "nbformat_minor": 0,
  "metadata": {
    "colab": {
      "provenance": [],
      "authorship_tag": "ABX9TyMPSMcuxeMxZGYfRpPYDx+A",
      "include_colab_link": true
    },
    "kernelspec": {
      "name": "python3",
      "display_name": "Python 3"
    },
    "language_info": {
      "name": "python"
    }
  },
  "cells": [
    {
      "cell_type": "markdown",
      "metadata": {
        "id": "view-in-github",
        "colab_type": "text"
      },
      "source": [
        "<a href=\"https://colab.research.google.com/github/chihchao/application-of-programming/blob/main/machine_learning_naive_bayes.ipynb\" target=\"_parent\"><img src=\"https://colab.research.google.com/assets/colab-badge.svg\" alt=\"Open In Colab\"/></a>"
      ]
    },
    {
      "cell_type": "markdown",
      "source": [
        "下載資料集"
      ],
      "metadata": {
        "id": "fsnhol7VhRbD"
      }
    },
    {
      "cell_type": "code",
      "source": [
        "# 下載資料集並解壓縮\n",
        "!gdown '1xqOapGi_kPIue0C5r4zDS1fe57tWo-2P' --output ML.zip\n",
        "!unzip ML.zip"
      ],
      "metadata": {
        "colab": {
          "base_uri": "https://localhost:8080/"
        },
        "id": "aQHK11p8hOc-",
        "outputId": "a5fcef9c-b225-45d0-b69f-92c2592f0e94"
      },
      "execution_count": 2,
      "outputs": [
        {
          "output_type": "stream",
          "name": "stdout",
          "text": [
            "Downloading...\n",
            "From (original): https://drive.google.com/uc?id=1xqOapGi_kPIue0C5r4zDS1fe57tWo-2P\n",
            "From (redirected): https://drive.google.com/uc?id=1xqOapGi_kPIue0C5r4zDS1fe57tWo-2P&confirm=t&uuid=32016ea1-f51b-4638-b0b1-55c36fb62029\n",
            "To: /content/ML.zip\n",
            "100% 44.6M/44.6M [00:00<00:00, 72.1MB/s]\n",
            "Archive:  ML.zip\n",
            "  inflating: housePrice.csv          \n",
            "  inflating: mnist500.zip            \n",
            "  inflating: mnist500_png.zip        \n",
            "  inflating: toutiao_cat_data.txt    \n",
            "  inflating: иTиоиолм╕ъо╞└╔.csv  \n",
            "  inflating: л╚дс┴p╡╕кмкp╕ъо╞└╔.csv  \n",
            "  inflating: breastCancer.csv        \n",
            "  inflating: customer.csv            \n"
          ]
        }
      ]
    },
    {
      "cell_type": "code",
      "source": [
        "# 更改亂碼檔名\n",
        "!mv иTиоиолм╕ъо╞└╔.csv 汽車車型資料檔.csv\n",
        "!mv л╚дс┴p╡╕кмкp╕ъо╞└╔.csv 客戶聯絡狀況資料檔.csv"
      ],
      "metadata": {
        "id": "JeHdfz74igu4"
      },
      "execution_count": 3,
      "outputs": []
    },
    {
      "cell_type": "markdown",
      "source": [
        "## 中文新聞分類"
      ],
      "metadata": {
        "id": "XP1XBSgkg89U"
      }
    },
    {
      "cell_type": "code",
      "execution_count": null,
      "metadata": {
        "id": "sJbnIgs7fLc0"
      },
      "outputs": [],
      "source": [
        "# 判斷中文新聞類別\n",
        "from sklearn.model_selection import train_test_split\n",
        "from sklearn.feature_extraction.text import TfidfVectorizer\n",
        "from sklearn.naive_bayes import MultinomialNB\n",
        "import jieba"
      ]
    },
    {
      "cell_type": "code",
      "source": [],
      "metadata": {
        "id": "wlIY-Uw9hHsR"
      },
      "execution_count": null,
      "outputs": []
    }
  ]
}