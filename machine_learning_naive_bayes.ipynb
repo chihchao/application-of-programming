{
  "nbformat": 4,
  "nbformat_minor": 0,
  "metadata": {
    "colab": {
      "provenance": [],
      "authorship_tag": "ABX9TyP6QBa0NzSS7ZpAFW6uxhny",
      "include_colab_link": true
    },
    "kernelspec": {
      "name": "python3",
      "display_name": "Python 3"
    },
    "language_info": {
      "name": "python"
    }
  },
  "cells": [
    {
      "cell_type": "markdown",
      "metadata": {
        "id": "view-in-github",
        "colab_type": "text"
      },
      "source": [
        "<a href=\"https://colab.research.google.com/github/chihchao/application-of-programming/blob/main/machine_learning_naive_bayes.ipynb\" target=\"_parent\"><img src=\"https://colab.research.google.com/assets/colab-badge.svg\" alt=\"Open In Colab\"/></a>"
      ]
    },
    {
      "cell_type": "markdown",
      "source": [
        "下載資料集"
      ],
      "metadata": {
        "id": "fsnhol7VhRbD"
      }
    },
    {
      "cell_type": "code",
      "source": [
        "# 下載資料集並解壓縮\n",
        "!gdown '1xqOapGi_kPIue0C5r4zDS1fe57tWo-2P' --output ML.zip\n",
        "!unzip ML.zip"
      ],
      "metadata": {
        "colab": {
          "base_uri": "https://localhost:8080/"
        },
        "id": "aQHK11p8hOc-",
        "outputId": "a5fcef9c-b225-45d0-b69f-92c2592f0e94"
      },
      "execution_count": 2,
      "outputs": [
        {
          "output_type": "stream",
          "name": "stdout",
          "text": [
            "Downloading...\n",
            "From (original): https://drive.google.com/uc?id=1xqOapGi_kPIue0C5r4zDS1fe57tWo-2P\n",
            "From (redirected): https://drive.google.com/uc?id=1xqOapGi_kPIue0C5r4zDS1fe57tWo-2P&confirm=t&uuid=32016ea1-f51b-4638-b0b1-55c36fb62029\n",
            "To: /content/ML.zip\n",
            "100% 44.6M/44.6M [00:00<00:00, 72.1MB/s]\n",
            "Archive:  ML.zip\n",
            "  inflating: housePrice.csv          \n",
            "  inflating: mnist500.zip            \n",
            "  inflating: mnist500_png.zip        \n",
            "  inflating: toutiao_cat_data.txt    \n",
            "  inflating: иTиоиолм╕ъо╞└╔.csv  \n",
            "  inflating: л╚дс┴p╡╕кмкp╕ъо╞└╔.csv  \n",
            "  inflating: breastCancer.csv        \n",
            "  inflating: customer.csv            \n"
          ]
        }
      ]
    },
    {
      "cell_type": "code",
      "source": [
        "# 更改亂碼檔名\n",
        "!mv иTиоиолм╕ъо╞└╔.csv 汽車車型資料檔.csv\n",
        "!mv л╚дс┴p╡╕кмкp╕ъо╞└╔.csv 客戶聯絡狀況資料檔.csv"
      ],
      "metadata": {
        "id": "JeHdfz74igu4"
      },
      "execution_count": 3,
      "outputs": []
    },
    {
      "cell_type": "markdown",
      "source": [
        "## 中文新聞分類"
      ],
      "metadata": {
        "id": "XP1XBSgkg89U"
      }
    },
    {
      "cell_type": "code",
      "execution_count": 4,
      "metadata": {
        "id": "sJbnIgs7fLc0"
      },
      "outputs": [],
      "source": [
        "# 判斷中文新聞類別\n",
        "from sklearn.model_selection import train_test_split\n",
        "from sklearn.feature_extraction.text import TfidfVectorizer\n",
        "from sklearn.naive_bayes import MultinomialNB\n",
        "import jieba"
      ]
    },
    {
      "cell_type": "code",
      "source": [
        "data = []\n",
        "target = []\n",
        "with open('/content/toutiao_cat_data.txt','r', encoding='utf-8') as file:\n",
        "    for line in file.readlines():\n",
        "        linelist = line.split('_!_')\n",
        "        target.append(linelist[1])\n",
        "        words = list(jieba.cut(linelist[3]))\n",
        "        data.append(' '.join(words))\n",
        "\n"
      ],
      "metadata": {
        "colab": {
          "base_uri": "https://localhost:8080/"
        },
        "id": "wlIY-Uw9hHsR",
        "outputId": "406a67ea-fcd1-4a00-ad2c-211b168f0855"
      },
      "execution_count": 6,
      "outputs": [
        {
          "output_type": "stream",
          "name": "stderr",
          "text": [
            "Building prefix dict from the default dictionary ...\n",
            "DEBUG:jieba:Building prefix dict from the default dictionary ...\n",
            "Dumping model to file cache /tmp/jieba.cache\n",
            "DEBUG:jieba:Dumping model to file cache /tmp/jieba.cache\n",
            "Loading model cost 1.452 seconds.\n",
            "DEBUG:jieba:Loading model cost 1.452 seconds.\n",
            "Prefix dict has been built successfully.\n",
            "DEBUG:jieba:Prefix dict has been built successfully.\n"
          ]
        }
      ]
    },
    {
      "cell_type": "code",
      "source": [
        "len(target)"
      ],
      "metadata": {
        "colab": {
          "base_uri": "https://localhost:8080/"
        },
        "id": "xWZVq-IzmsdJ",
        "outputId": "4e87fd8c-b918-47e5-da0e-67bd0a834ca3"
      },
      "execution_count": 7,
      "outputs": [
        {
          "output_type": "execute_result",
          "data": {
            "text/plain": [
              "382688"
            ]
          },
          "metadata": {},
          "execution_count": 7
        }
      ]
    },
    {
      "cell_type": "code",
      "source": [
        "x_train, x_test, y_train, y_test = train_test_split(data, target, test_size=0.20)\n",
        "# 使用 tf-idf 計算字詞頻率向量\n",
        "tf = TfidfVectorizer()\n",
        "x_train = tf.fit_transform(x_train)\n",
        "x_test = tf.transform(x_test)\n",
        "# 使用單純貝氏分類器訓練模型\n",
        "mlt = MultinomialNB(alpha=1.0)\n",
        "mlt.fit(x_train, y_train)\n",
        "# y_pred = mlt.predict(x_test)\n",
        "score = mlt.score(x_test, y_test)\n",
        "score"
      ],
      "metadata": {
        "colab": {
          "base_uri": "https://localhost:8080/"
        },
        "id": "VtBD6Pq9m026",
        "outputId": "ea215c67-23ef-4de6-af6d-e0fdb2890d3f"
      },
      "execution_count": 8,
      "outputs": [
        {
          "output_type": "execute_result",
          "data": {
            "text/plain": [
              "0.8305024954924352"
            ]
          },
          "metadata": {},
          "execution_count": 8
        }
      ]
    },
    {
      "cell_type": "markdown",
      "source": [
        "改善方式：\n",
        "- 單純貝氏特徵之間是獨立的，考慮字詞之間可能是有關係，改用其他演算法\n",
        "- 斷詞改善"
      ],
      "metadata": {
        "id": "vEy030yxq-97"
      }
    }
  ]
}