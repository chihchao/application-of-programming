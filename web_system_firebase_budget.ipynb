{
  "nbformat": 4,
  "nbformat_minor": 0,
  "metadata": {
    "colab": {
      "provenance": [],
      "authorship_tag": "ABX9TyNKIr7Oytf1LuOQXn6O0Mht",
      "include_colab_link": true
    },
    "kernelspec": {
      "name": "python3",
      "display_name": "Python 3"
    },
    "language_info": {
      "name": "python"
    }
  },
  "cells": [
    {
      "cell_type": "markdown",
      "metadata": {
        "id": "view-in-github",
        "colab_type": "text"
      },
      "source": [
        "<a href=\"https://colab.research.google.com/github/chihchao/application-of-programming/blob/main/web_system_firebase_budget.ipynb\" target=\"_parent\"><img src=\"https://colab.research.google.com/assets/colab-badge.svg\" alt=\"Open In Colab\"/></a>"
      ]
    },
    {
      "cell_type": "code",
      "execution_count": 3,
      "metadata": {
        "id": "amQEithfSATp"
      },
      "outputs": [],
      "source": [
        "!pip install -q firebase-admin"
      ]
    },
    {
      "cell_type": "code",
      "source": [
        "import json, re\n",
        "import google.generativeai as genai\n",
        "from google.colab import userdata\n",
        "prompt = '''\n",
        "請根據輸入的文字，自動分析並拆解成以下欄位資訊，並直接輸出成 json 字串：\n",
        "收支（收入或支出）\n",
        "類別（請從以下類別中選擇最適合的）\n",
        "【支出類別】：餐飲, 超商, 雜貨, 交通, 生活日用品, 房租, 房貸, 水電瓦斯, 網路, 電信費, 娛樂, 教育, 學習, 醫療保健, 服飾美容, 禮品, 交際, 寵物, 家庭支出, 其他支出\n",
        "【收入類別】：教課收入,定線收入,薪資收入, 獎金, 投資收入, 利息收入, 退稅, 補助, 二手交易, 紅包, 禮金, 其他收入\n",
        "項目（簡單描述內容）\n",
        "金額（數字）\n",
        "備註（如果提到早中晚餐，可以把吃的東西放在項目，早中晚餐放在備註，或在哪裡買什麼，地點就可以放在備註，以此類推）\n",
        "請以以下格式範例回覆，不要有其他文字或說明，前後也不要加任何東西\n",
        "\n",
        "  \"收支\": \"支出\",\n",
        "  \"類別\": \"餐飲\",\n",
        "  \"項目\": \"牛排\",\n",
        "  \"金額\": 128,\n",
        "  \"備註\": \"老婆付\"\n",
        "\n",
        "如果一次有好幾個品項跟金額，品項就用半形逗號隔開放一起，金額直接加總，全整合成一筆\n",
        "'''\n",
        "\n",
        "\n",
        "def get_dict(data):\n",
        "    match = re.search(r'({.*})', data, re.DOTALL)\n",
        "    json_string = match.group(1) if match else None\n",
        "    return json.loads(json_string) if json_string else None\n",
        "\n",
        "\n",
        "genai.configure(api_key=userdata.get('GOOGLE_API_KEY'))\n",
        "model = genai.GenerativeModel(\"gemini-2.0-flash\")\n",
        "\n",
        "def generate_response(info):\n",
        "    response = model.generate_content(info + prompt)\n",
        "    return get_dict(response.text)\n",
        "\n"
      ],
      "metadata": {
        "id": "Ost5_I8ueL3V"
      },
      "execution_count": 15,
      "outputs": []
    },
    {
      "cell_type": "code",
      "source": [
        "from google.colab import userdata\n",
        "\n",
        "import firebase_admin\n",
        "from firebase_admin import credentials, firestore\n",
        "import json\n",
        "\n",
        "service_account_info = json.loads(userdata.get('FIREBASE_SERVICE_ACCOUNT_JSON'))\n",
        "cred = credentials.Certificate(service_account_info)\n",
        "if not firebase_admin._apps:\n",
        "    firebase_admin.initialize_app(cred)\n",
        "\n",
        "db = firestore.client()"
      ],
      "metadata": {
        "id": "yruuA--NeJVy"
      },
      "execution_count": 4,
      "outputs": []
    },
    {
      "cell_type": "code",
      "source": [
        "import datetime\n",
        "def save_to_firestore(data):\n",
        "  try:\n",
        "    data['timestamp'] = datetime.datetime.now()\n",
        "    db.collection('expenses').add(data)\n",
        "    print(\"Data saved to Firestore successfully!\")\n",
        "  except json.JSONDecodeError:\n",
        "      print(\"Invalid JSON format. Please check the output from generate_response().\")\n",
        "  except Exception as e:\n",
        "    print(f\"An error occurred: {e}\")\n",
        "\n",
        "# Example usage\n",
        "text_input = input('輸入項目：')\n",
        "dict_output = generate_response(text_input)\n",
        "print(dict_output)\n",
        "save_to_firestore(dict_output)"
      ],
      "metadata": {
        "colab": {
          "base_uri": "https://localhost:8080/",
          "height": 69
        },
        "id": "sQ40kUHYk7j0",
        "outputId": "128da33e-fa18-42b4-de71-a021a3425ab6"
      },
      "execution_count": 20,
      "outputs": [
        {
          "output_type": "stream",
          "name": "stdout",
          "text": [
            "輸入項目：演講費3000\n",
            "{'收支': '收入', '類別': '教課收入', '項目': '演講', '金額': 3000, '備註': ''}\n",
            "Data saved to Firestore successfully!\n"
          ]
        }
      ]
    },
    {
      "cell_type": "code",
      "source": [
        "# prompt: 從firestore中找出支出的項目\n",
        "\n",
        "import firebase_admin\n",
        "from firebase_admin import credentials, firestore\n",
        "\n",
        "# ... (Your existing code)\n",
        "\n",
        "def get_expenses_from_firestore():\n",
        "    \"\"\"Retrieves all expense documents from the 'expenses' collection.\"\"\"\n",
        "    try:\n",
        "        expenses_ref = db.collection('expenses')\n",
        "        expenses = expenses_ref.stream()\n",
        "        expenses_list = []  # list to store expenses\n",
        "\n",
        "        for expense in expenses:\n",
        "            expense_data = expense.to_dict()\n",
        "            expenses_list.append(expense_data)\n",
        "            #print(f'{expense.id} => {expense.to_dict()}')\n",
        "\n",
        "        return expenses_list\n",
        "    except Exception as e:\n",
        "        print(f\"An error occurred while retrieving expenses: {e}\")\n",
        "        return None\n",
        "\n",
        "# Example usage:\n",
        "retrieved_expenses = get_expenses_from_firestore()\n",
        "\n",
        "if retrieved_expenses:\n",
        "    print(retrieved_expenses) # process your expenses data here\n",
        "    # Example: Iterate through the list of expenses\n",
        "    #for expense in retrieved_expenses:\n",
        "    #    print(expense)\n"
      ],
      "metadata": {
        "colab": {
          "base_uri": "https://localhost:8080/"
        },
        "id": "OKJtLK3knFqT",
        "outputId": "31e8e6ee-0186-4586-96ef-6b19d5fc2e74"
      },
      "execution_count": 21,
      "outputs": [
        {
          "output_type": "stream",
          "name": "stdout",
          "text": [
            "[{'項目': '牛奶', '金額': 800, '類別': '雜貨', '收支': '支出', '備註': '好市多'}, {'項目': '演講', '金額': 3000, '類別': '教課收入', 'timestamp': DatetimeWithNanoseconds(2025, 4, 28, 13, 39, 39, 657142, tzinfo=datetime.timezone.utc), '收支': '收入', '備註': ''}, {'項目': '西堤', '金額': 1024, '類別': '餐飲', '收支': '支出', '備註': '晚餐'}]\n"
          ]
        }
      ]
    },
    {
      "cell_type": "markdown",
      "source": [],
      "metadata": {
        "id": "VFIk-0xmaHMP"
      }
    }
  ]
}