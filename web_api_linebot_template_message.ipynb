{
  "nbformat": 4,
  "nbformat_minor": 0,
  "metadata": {
    "colab": {
      "provenance": [],
      "authorship_tag": "ABX9TyPvxDnCF3MSK6sYAID/Jo1t",
      "include_colab_link": true
    },
    "kernelspec": {
      "name": "python3",
      "display_name": "Python 3"
    },
    "language_info": {
      "name": "python"
    }
  },
  "cells": [
    {
      "cell_type": "markdown",
      "metadata": {
        "id": "view-in-github",
        "colab_type": "text"
      },
      "source": [
        "<a href=\"https://colab.research.google.com/github/chihchao/application-of-programming/blob/main/web_api_linebot_template_message.ipynb\" target=\"_parent\"><img src=\"https://colab.research.google.com/assets/colab-badge.svg\" alt=\"Open In Colab\"/></a>"
      ]
    },
    {
      "cell_type": "code",
      "execution_count": 6,
      "metadata": {
        "id": "4BGhRi9VOE1j"
      },
      "outputs": [],
      "source": [
        "!pip install -q flask pyngrok flask_ngrok line-bot-sdk"
      ]
    },
    {
      "cell_type": "code",
      "source": [
        "from flask import Flask, request, abort\n",
        "# for  colab\n",
        "from pyngrok import ngrok\n",
        "from flask_ngrok import run_with_ngrok\n",
        "from google.colab import userdata\n",
        "# for line bot\n",
        "from linebot import (\n",
        "    LineBotApi, WebhookHandler\n",
        ")\n",
        "from linebot.exceptions import (\n",
        "    InvalidSignatureError\n",
        ")\n",
        "from linebot.models import (\n",
        "    MessageEvent, TextMessage, TextSendMessage, TemplateSendMessage, ConfirmTemplate, MessageAction,\n",
        "    ButtonsTemplate, URIAction, CameraAction, CameraRollAction, LocationAction,\n",
        "    CarouselTemplate, CarouselColumn,\n",
        "    ImageCarouselTemplate, ImageCarouselColumn,\n",
        "    PostbackAction, PostbackEvent\n",
        ")\n",
        "\n",
        "def ngrok_start():\n",
        "    ngrok.set_auth_token(userdata.get('NGROK_AUTHTOKEN'))\n",
        "    public_url = ngrok.connect(5000)\n",
        "    run_with_ngrok(app)\n",
        "\n",
        "app = Flask(__name__)\n",
        "ngrok_start()\n",
        "\n",
        "line_bot_api = LineBotApi(userdata.get('LINE_CHANNEL_ACCESS_TOKEN'))\n",
        "handler = WebhookHandler(userdata.get('LINE_CHANNEL_SECRET'))\n",
        "\n",
        "@app.route(\"/callback\", methods=['POST'])\n",
        "def callback():\n",
        "    signature = request.headers['X-Line-Signature']\n",
        "    body = request.get_data(as_text=True)\n",
        "    try:\n",
        "        handler.handle(body, signature)\n",
        "    except InvalidSignatureError:\n",
        "        print(\"Invalid signature. Please check your channel access token/channel secret.\")\n",
        "        abort(400)\n",
        "    return 'OK'\n",
        "\n",
        "@handler.add(MessageEvent, message=TextMessage)\n",
        "def handle_text(event):\n",
        "    # confirm template\n",
        "    if event.message.text == 'confirm':\n",
        "        reply = TemplateSendMessage(\n",
        "            alt_text='這是一個確認訊息',\n",
        "            template=ConfirmTemplate(\n",
        "                text='你喜歡芙莉蓮嗎？',\n",
        "                actions=[\n",
        "                    MessageAction(label='是', text='我超喜歡的'),\n",
        "                    MessageAction(label='否', text='雖然很喜歡，但我要傲驕的說否')\n",
        "                ]\n",
        "            )\n",
        "        )\n",
        "    # buttons template\n",
        "    elif event.message.text == 'buttons':\n",
        "        reply = TemplateSendMessage(\n",
        "            alt_text='這是一個按鈕選單',\n",
        "            template=ButtonsTemplate(\n",
        "                thumbnail_image_url='https://cdn.pixabay.com/photo/2018/10/20/09/28/budapest-3760434_640.jpg',\n",
        "                title='功能選單',\n",
        "                text='請選擇一項操作',\n",
        "                actions=[\n",
        "                    URIAction(label='Pixabay', uri='https://pixabay.com/'),\n",
        "                    CameraAction(label='拍照'),\n",
        "                    CameraRollAction(label='選擇相片'),\n",
        "                    LocationAction(label='選擇位置')\n",
        "                ]\n",
        "            )\n",
        "        )\n",
        "    elif event.message.text == 'carousel':\n",
        "        reply = TemplateSendMessage(\n",
        "            alt_text='這是選單列表',\n",
        "            template=CarouselTemplate(\n",
        "                columns=[\n",
        "                    CarouselColumn(\n",
        "                        thumbnail_image_url='https://upload.wikimedia.org/wikipedia/zh/7/7d/Summer_Wars_poster.jpg',\n",
        "                        title='夏日大作戰',\n",
        "                        text='2009年上映的日本科幻暨浪漫電影',\n",
        "                        actions=[\n",
        "                            MessageAction(label='選我', text='細田守一票'),\n",
        "                            URIAction(label='看更多', uri='https://zh.wikipedia.org/zh-tw/%E5%A4%8F%E6%97%A5%E5%A4%A7%E4%BD%9C%E6%88%B0')\n",
        "                        ]\n",
        "                    ),\n",
        "                    CarouselColumn(\n",
        "                        thumbnail_image_url='https://upload.wikimedia.org/wikipedia/zh/thumb/4/4f/Castle_of_Cagliostro_poster.png/250px-Castle_of_Cagliostro_poster.png',\n",
        "                        title='魯邦三世 卡里奧斯特羅城',\n",
        "                        text='1979年上映的日本動畫動作冒險喜劇電影',\n",
        "                        actions=[\n",
        "                            MessageAction(label='選我', text='宮崎駿一票'),\n",
        "                            URIAction(label='看更多', uri='https://zh.wikipedia.org/zh-tw/%E9%AD%AF%E9%82%A6%E4%B8%89%E4%B8%96_%E5%8D%A1%E9%87%8C%E5%A5%A7%E6%96%AF%E7%89%B9%E7%BE%85%E4%B9%8B%E5%9F%8E')\n",
        "                        ]\n",
        "                    )\n",
        "                ]\n",
        "            )\n",
        "        )\n",
        "    elif event.message.text == 'imageCarousel':\n",
        "        reply = TemplateSendMessage(\n",
        "            alt_text='這是圖片選單',\n",
        "            template=ImageCarouselTemplate(\n",
        "                columns=[\n",
        "                    ImageCarouselColumn(\n",
        "                        image_url='https://upload.wikimedia.org/wikipedia/zh/7/7d/Summer_Wars_poster.jpg',\n",
        "                        action=PostbackAction(\n",
        "                            label='夏日大作戰',\n",
        "                            data='action=select&item=A'\n",
        "                        )\n",
        "                    ),\n",
        "                    ImageCarouselColumn(\n",
        "                        image_url='https://upload.wikimedia.org/wikipedia/zh/thumb/4/4f/Castle_of_Cagliostro_poster.png/250px-Castle_of_Cagliostro_poster.png',\n",
        "                        action=PostbackAction(\n",
        "                            label='魯邦三世 卡里奧斯特羅城',\n",
        "                            data='action=select&item=B'\n",
        "                        )\n",
        "                    )\n",
        "                ]\n",
        "            )\n",
        "        )\n",
        "    else:\n",
        "        reply = TextSendMessage(text=event.message.text)\n",
        "    line_bot_api.reply_message(event.reply_token, reply)\n",
        "# 處理 image_carousel 的 postback 訊息\n",
        "@handler.add(PostbackEvent)\n",
        "def handle_postback(event):\n",
        "    data = event.postback.data\n",
        "\n",
        "    if data == \"action=select&item=A\":\n",
        "        line_bot_api.reply_message(event.reply_token, TextSendMessage(text=\"你選了 夏日大作戰\"))\n",
        "    elif data == \"action=select&item=B\":\n",
        "        line_bot_api.reply_message(event.reply_token, TextSendMessage(text=\"你選了 魯邦三世 卡里奧斯特羅城\"))\n",
        "    else:\n",
        "        line_bot_api.reply_message(event.reply_token, TextSendMessage(text=f\"你選了：{data}\"))\n",
        "\n",
        "\n",
        "# 啟動 web server\n",
        "app.run()"
      ],
      "metadata": {
        "colab": {
          "base_uri": "https://localhost:8080/"
        },
        "id": "N-lDGVomOiLX",
        "outputId": "b5b545e3-f075-4e13-aa9a-9208b2af965b"
      },
      "execution_count": 7,
      "outputs": [
        {
          "output_type": "stream",
          "name": "stderr",
          "text": [
            "<ipython-input-7-2abc0bff8124>:29: LineBotSdkDeprecatedIn30: Call to deprecated class LineBotApi. (Use v3 class; linebot.v3.<feature>. See https://github.com/line/line-bot-sdk-python/blob/master/README.rst for more details.) -- Deprecated since version 3.0.0.\n",
            "  line_bot_api = LineBotApi(userdata.get('LINE_CHANNEL_ACCESS_TOKEN'))\n"
          ]
        },
        {
          "output_type": "stream",
          "name": "stdout",
          "text": [
            " * Serving Flask app '__main__'\n",
            " * Debug mode: off\n"
          ]
        },
        {
          "output_type": "stream",
          "name": "stderr",
          "text": [
            "<ipython-input-7-2abc0bff8124>:30: LineBotSdkDeprecatedIn30: Call to deprecated class WebhookHandler. (Use 'from linebot.v3.webhook import WebhookHandler' instead. See https://github.com/line/line-bot-sdk-python/blob/master/README.rst for more details.) -- Deprecated since version 3.0.0.\n",
            "  handler = WebhookHandler(userdata.get('LINE_CHANNEL_SECRET'))\n",
            "INFO:werkzeug:\u001b[31m\u001b[1mWARNING: This is a development server. Do not use it in a production deployment. Use a production WSGI server instead.\u001b[0m\n",
            " * Running on http://127.0.0.1:5000\n",
            "INFO:werkzeug:\u001b[33mPress CTRL+C to quit\u001b[0m\n"
          ]
        },
        {
          "output_type": "stream",
          "name": "stdout",
          "text": [
            " * Running on http://eff9-104-199-190-212.ngrok-free.app\n",
            " * Traffic stats available on http://127.0.0.1:4040\n"
          ]
        },
        {
          "output_type": "stream",
          "name": "stderr",
          "text": [
            "INFO:werkzeug:127.0.0.1 - - [19/Apr/2025 12:06:52] \"\u001b[33mGET / HTTP/1.1\u001b[0m\" 404 -\n",
            "INFO:werkzeug:127.0.0.1 - - [19/Apr/2025 12:06:53] \"\u001b[33mGET /favicon.ico HTTP/1.1\u001b[0m\" 404 -\n",
            "INFO:werkzeug:127.0.0.1 - - [19/Apr/2025 12:07:17] \"POST /callback HTTP/1.1\" 200 -\n",
            "<ipython-input-7-2abc0bff8124>:123: LineBotSdkDeprecatedIn30: Call to deprecated method reply_message. (Use 'from linebot.v3.messaging import MessagingApi' and 'MessagingApi(...).reply_message(...)' instead. See https://github.com/line/line-bot-sdk-python/blob/master/README.rst for more details.) -- Deprecated since version 3.0.0.\n",
            "  line_bot_api.reply_message(event.reply_token, reply)\n",
            "INFO:werkzeug:127.0.0.1 - - [19/Apr/2025 12:07:37] \"POST /callback HTTP/1.1\" 200 -\n",
            "<ipython-input-7-2abc0bff8124>:132: LineBotSdkDeprecatedIn30: Call to deprecated method reply_message. (Use 'from linebot.v3.messaging import MessagingApi' and 'MessagingApi(...).reply_message(...)' instead. See https://github.com/line/line-bot-sdk-python/blob/master/README.rst for more details.) -- Deprecated since version 3.0.0.\n",
            "  line_bot_api.reply_message(event.reply_token, TextSendMessage(text=\"你選了 魯邦三世 卡里奧斯特羅城\"))\n",
            "INFO:werkzeug:127.0.0.1 - - [19/Apr/2025 12:07:48] \"POST /callback HTTP/1.1\" 200 -\n"
          ]
        }
      ]
    }
  ]
}