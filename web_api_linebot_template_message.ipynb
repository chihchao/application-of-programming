{
  "nbformat": 4,
  "nbformat_minor": 0,
  "metadata": {
    "colab": {
      "provenance": [],
      "authorship_tag": "ABX9TyOkXNYBTN/A+sEBaUhhdBjA",
      "include_colab_link": true
    },
    "kernelspec": {
      "name": "python3",
      "display_name": "Python 3"
    },
    "language_info": {
      "name": "python"
    }
  },
  "cells": [
    {
      "cell_type": "markdown",
      "metadata": {
        "id": "view-in-github",
        "colab_type": "text"
      },
      "source": [
        "<a href=\"https://colab.research.google.com/github/chihchao/application-of-programming/blob/main/web_api_linebot_template_message.ipynb\" target=\"_parent\"><img src=\"https://colab.research.google.com/assets/colab-badge.svg\" alt=\"Open In Colab\"/></a>"
      ]
    },
    {
      "cell_type": "code",
      "execution_count": 1,
      "metadata": {
        "colab": {
          "base_uri": "https://localhost:8080/"
        },
        "id": "4BGhRi9VOE1j",
        "outputId": "5ad75021-ab8d-48f0-8ac5-b22b6f073114"
      },
      "outputs": [
        {
          "output_type": "stream",
          "name": "stdout",
          "text": [
            "\u001b[?25l   \u001b[90m━━━━━━━━━━━━━━━━━━━━━━━━━━━━━━━━━━━━━━━━\u001b[0m \u001b[32m0.0/776.1 kB\u001b[0m \u001b[31m?\u001b[0m eta \u001b[36m-:--:--\u001b[0m\r\u001b[2K   \u001b[91m━━━━━━━━━━━━━━━━━━━━━━━━━━━━\u001b[0m\u001b[91m╸\u001b[0m\u001b[90m━━━━━━━━━━━\u001b[0m \u001b[32m553.0/776.1 kB\u001b[0m \u001b[31m15.9 MB/s\u001b[0m eta \u001b[36m0:00:01\u001b[0m\r\u001b[2K   \u001b[90m━━━━━━━━━━━━━━━━━━━━━━━━━━━━━━━━━━━━━━━━\u001b[0m \u001b[32m776.1/776.1 kB\u001b[0m \u001b[31m13.0 MB/s\u001b[0m eta \u001b[36m0:00:00\u001b[0m\n",
            "\u001b[?25h\u001b[?25l   \u001b[90m━━━━━━━━━━━━━━━━━━━━━━━━━━━━━━━━━━━━━━━━\u001b[0m \u001b[32m0.0/137.6 kB\u001b[0m \u001b[31m?\u001b[0m eta \u001b[36m-:--:--\u001b[0m\r\u001b[2K   \u001b[90m━━━━━━━━━━━━━━━━━━━━━━━━━━━━━━━━━━━━━━━━\u001b[0m \u001b[32m137.6/137.6 kB\u001b[0m \u001b[31m9.5 MB/s\u001b[0m eta \u001b[36m0:00:00\u001b[0m\n",
            "\u001b[?25h"
          ]
        }
      ],
      "source": [
        "!pip install -q flask pyngrok flask_ngrok line-bot-sdk"
      ]
    },
    {
      "cell_type": "markdown",
      "source": [
        "## Final Ver"
      ],
      "metadata": {
        "id": "MmQY1c1GtcD_"
      }
    },
    {
      "cell_type": "code",
      "source": [
        "# for colab\n",
        "from pyngrok import ngrok\n",
        "from flask_ngrok import run_with_ngrok\n",
        "from google.colab import userdata\n",
        "def ngrok_start():\n",
        "    ngrok.set_auth_token(userdata.get('NGROK_AUTHTOKEN'))\n",
        "    public_url = ngrok.connect(5000)\n",
        "    run_with_ngrok(app)\n",
        "\n",
        "# for linebot\n",
        "from flask import Flask, request, abort\n",
        "\n",
        "from linebot.v3 import WebhookHandler\n",
        "from linebot.v3.exceptions import InvalidSignatureError\n",
        "from linebot.v3.webhooks import MessageEvent, TextMessageContent, PostbackEvent\n",
        "from linebot.v3.messaging import (\n",
        "    Configuration, ApiClient, MessagingApi, ReplyMessageRequest,\n",
        "    TextMessage,\n",
        "    TemplateMessage, ConfirmTemplate, MessageAction,\n",
        "    ButtonsTemplate, URIAction, LocationAction, CameraAction, CameraRollAction,\n",
        "    CarouselTemplate, CarouselColumn, PostbackAction,\n",
        "    ImageCarouselTemplate, ImageCarouselColumn\n",
        ")\n",
        "\n",
        "app = Flask(__name__)\n",
        "\n",
        "configuration = Configuration(access_token=userdata.get('LINE_CHANNEL_ACCESS_TOKEN'))\n",
        "handler = WebhookHandler(userdata.get('LINE_CHANNEL_SECRET'))\n",
        "\n",
        "\n",
        "@app.route(\"/callback\", methods=['POST'])\n",
        "def callback():\n",
        "    signature = request.headers['X-Line-Signature']\n",
        "    body = request.get_data(as_text=True)\n",
        "    try:\n",
        "        handler.handle(body, signature)\n",
        "    except InvalidSignatureError:\n",
        "        abort(400)\n",
        "    return 'OK'\n",
        "\n",
        "\n",
        "@handler.add(MessageEvent, message=TextMessageContent)\n",
        "def handle_message(event):\n",
        "    with ApiClient(configuration) as api_client:\n",
        "        if event.message.text == 'confirm':\n",
        "            reply_message = TemplateMessage(\n",
        "                alt_text=\"ConfirmTemplate\",\n",
        "                template=ConfirmTemplate(\n",
        "                    text=\"你喜歡葬送的芙莉蓮嗎？\",\n",
        "                    actions=[\n",
        "                        MessageAction(label=\"是\", text=\"我很喜歡芙莉蓮喔！\"),\n",
        "                        MessageAction(label=\"否\", text=\"其實我超喜歡，但要傲嬌的說否\")\n",
        "                    ]\n",
        "                )\n",
        "            )\n",
        "        elif event.message.text == 'buttons':\n",
        "            reply_message = TemplateMessage(\n",
        "                alt_text=\"ButtonsTemplate\",\n",
        "                template=ButtonsTemplate(\n",
        "                    thumbnail_image_url='https://cdn.pixabay.com/photo/2018/10/20/09/28/budapest-3760434_1280.jpg',\n",
        "                    title=\"Budapest\",\n",
        "                    text=\"布達佩斯是匈牙利首都\",\n",
        "                    actions=[\n",
        "                        URIAction(label=\"維基資料\", uri=\"https://zh.wikipedia.org/zh-tw/%E5%B8%83%E8%BE%BE%E4%BD%A9%E6%96%AF\"),\n",
        "                        LocationAction(label=\"傳送位置\"),\n",
        "                        CameraAction(label=\"拍照上傳\"),\n",
        "                        CameraRollAction(label=\"從相簿選擇\")\n",
        "                    ]\n",
        "                )\n",
        "            )\n",
        "        elif event.message.text == 'carousel':\n",
        "            carousel_template = CarouselTemplate(\n",
        "                columns=[\n",
        "                    CarouselColumn(\n",
        "                        thumbnail_image_url='https://upload.wikimedia.org/wikipedia/zh/7/7d/Summer_Wars_poster.jpg',\n",
        "                        title='夏日大作戰',\n",
        "                        text='2009年上映的日本科幻暨浪漫電影',\n",
        "                        actions=[\n",
        "                            URIAction(label='查看詳情', uri='https://zh.wikipedia.org/zh-tw/%E5%A4%8F%E6%97%A5%E5%A4%A7%E4%BD%9C%E6%88%B0'),\n",
        "                            PostbackAction(label='投票', data='action=vote&item=a')\n",
        "                        ]\n",
        "                    ),\n",
        "                    CarouselColumn(\n",
        "                        thumbnail_image_url='https://upload.wikimedia.org/wikipedia/zh/thumb/4/4f/Castle_of_Cagliostro_poster.png/250px-Castle_of_Cagliostro_poster.png',\n",
        "                        title='魯邦三世卡里奧斯特羅城',\n",
        "                        text='1979年上映的日本動畫動作冒險喜劇電影',\n",
        "                        actions=[\n",
        "                            URIAction(label='查看詳情', uri='https://zh.wikipedia.org/zh-tw/%E9%AD%AF%E9%82%A6%E4%B8%89%E4%B8%96_%E5%8D%A1%E9%87%8C%E5%A5%A7%E6%96%AF%E7%89%B9%E7%BE%85%E4%B9%8B%E5%9F%8E'),\n",
        "                            PostbackAction(label='投票', data='action=vote&item=b')\n",
        "                        ]\n",
        "                    )\n",
        "                ]\n",
        "            )\n",
        "            reply_message = TemplateMessage(\n",
        "                alt_text='CarouselTemplate',\n",
        "                template=carousel_template\n",
        "            )\n",
        "        elif event.message.text == 'imgCarousel':\n",
        "            image_carousel_template = ImageCarouselTemplate(\n",
        "                columns=[\n",
        "                    ImageCarouselColumn(\n",
        "                        image_url='https://upload.wikimedia.org/wikipedia/zh/7/7d/Summer_Wars_poster.jpg',\n",
        "                        action=URIAction(\n",
        "                            label='查看詳情',\n",
        "                            uri='https://zh.wikipedia.org/zh-tw/%E5%A4%8F%E6%97%A5%E5%A4%A7%E4%BD%9C%E6%88%B0'\n",
        "                        )\n",
        "                    ),\n",
        "                    ImageCarouselColumn(\n",
        "                        image_url='https://upload.wikimedia.org/wikipedia/zh/thumb/4/4f/Castle_of_Cagliostro_poster.png/250px-Castle_of_Cagliostro_poster.png',\n",
        "                        action=URIAction(\n",
        "                            label='查看詳情',\n",
        "                            uri='https://zh.wikipedia.org/zh-tw/%E9%AD%AF%E9%82%A6%E4%B8%89%E4%B8%96_%E5%8D%A1%E9%87%8C%E5%A5%A7%E6%96%AF%E7%89%B9%E7%BE%85%E4%B9%8B%E5%9F%8E'\n",
        "                        )\n",
        "                    )\n",
        "                ]\n",
        "            )\n",
        "\n",
        "            reply_message = TemplateMessage(\n",
        "                alt_text='ImageCarouselTemplate',\n",
        "                template=image_carousel_template\n",
        "            )\n",
        "        else:\n",
        "            reply_message = TextMessage(text='Please type in: confirm, buttons, carousel, imgCarousel')\n",
        "\n",
        "        line_bot_api = MessagingApi(api_client)\n",
        "        line_bot_api.reply_message(\n",
        "            ReplyMessageRequest(\n",
        "                reply_token=event.reply_token,\n",
        "                messages=[\n",
        "                    reply_message\n",
        "                ]\n",
        "            )\n",
        "        )\n",
        "\n",
        "\n",
        "@handler.add(PostbackEvent)\n",
        "def handle_postback(event):\n",
        "    with ApiClient(configuration) as api_client:\n",
        "        if event.postback.data == 'action=vote&item=a':\n",
        "            reply_message = TextMessage(text='你選了 夏日大作戰')\n",
        "        elif event.postback.data == 'action=vote&item=b':\n",
        "            reply_message = TextMessage(text='你選了 魯邦三世卡里奧斯特羅城')\n",
        "        else:\n",
        "            reply_message = TextMessage(text=f'你選了：{event.postback.data}')\n",
        "\n",
        "        line_bot_api = MessagingApi(api_client)\n",
        "        line_bot_api.reply_message(\n",
        "            ReplyMessageRequest(\n",
        "                reply_token=event.reply_token,\n",
        "                messages=[\n",
        "                    reply_message\n",
        "                ]\n",
        "            )\n",
        "        )\n",
        "\n",
        "ngrok_start()\n",
        "if __name__ == \"__main__\":\n",
        "    app.run()"
      ],
      "metadata": {
        "colab": {
          "base_uri": "https://localhost:8080/"
        },
        "id": "s-75ErEttg76",
        "outputId": "86958a78-2d26-40ec-97ac-93f89e01b496"
      },
      "execution_count": 8,
      "outputs": [
        {
          "output_type": "stream",
          "name": "stdout",
          "text": [
            " * Serving Flask app '__main__'\n",
            " * Debug mode: off\n"
          ]
        },
        {
          "output_type": "stream",
          "name": "stderr",
          "text": [
            "INFO:werkzeug:\u001b[31m\u001b[1mWARNING: This is a development server. Do not use it in a production deployment. Use a production WSGI server instead.\u001b[0m\n",
            " * Running on http://127.0.0.1:5000\n",
            "INFO:werkzeug:\u001b[33mPress CTRL+C to quit\u001b[0m\n"
          ]
        },
        {
          "output_type": "stream",
          "name": "stdout",
          "text": [
            " * Running on http://579a-34-106-240-14.ngrok-free.app\n",
            " * Traffic stats available on http://127.0.0.1:4040\n"
          ]
        },
        {
          "output_type": "stream",
          "name": "stderr",
          "text": [
            "INFO:werkzeug:127.0.0.1 - - [24/Apr/2025 13:34:45] \"\u001b[33mGET / HTTP/1.1\u001b[0m\" 404 -\n",
            "INFO:werkzeug:127.0.0.1 - - [24/Apr/2025 13:34:46] \"\u001b[33mGET /favicon.ico HTTP/1.1\u001b[0m\" 404 -\n",
            "INFO:werkzeug:127.0.0.1 - - [24/Apr/2025 13:35:03] \"POST /callback HTTP/1.1\" 200 -\n",
            "INFO:werkzeug:127.0.0.1 - - [24/Apr/2025 13:35:17] \"POST /callback HTTP/1.1\" 200 -\n",
            "WARNING:pyngrok.process.ngrok:t=2025-04-24T13:38:31+0000 lvl=warn msg=\"Stopping forwarder\" name=http-5000-b8839191-50d7-437b-94a9-416c1d0b9512 acceptErr=\"failed to accept connection: Listener closed\"\n"
          ]
        }
      ]
    },
    {
      "cell_type": "markdown",
      "source": [
        "## First Ver"
      ],
      "metadata": {
        "id": "NJjFzxCOtYeo"
      }
    },
    {
      "cell_type": "code",
      "source": [
        "from flask import Flask, request, abort\n",
        "# for  colab\n",
        "from pyngrok import ngrok\n",
        "from flask_ngrok import run_with_ngrok\n",
        "from google.colab import userdata\n",
        "# for line bot\n",
        "from linebot import (\n",
        "    LineBotApi, WebhookHandler\n",
        ")\n",
        "from linebot.exceptions import (\n",
        "    InvalidSignatureError\n",
        ")\n",
        "from linebot.models import (\n",
        "    MessageEvent, TextMessage, TextSendMessage, TemplateSendMessage, ConfirmTemplate, MessageAction,\n",
        "    ButtonsTemplate, URIAction, CameraAction, CameraRollAction, LocationAction,\n",
        "    CarouselTemplate, CarouselColumn,\n",
        "    ImageCarouselTemplate, ImageCarouselColumn,\n",
        "    PostbackAction, PostbackEvent\n",
        ")\n",
        "\n",
        "def ngrok_start():\n",
        "    ngrok.set_auth_token(userdata.get('NGROK_AUTHTOKEN'))\n",
        "    public_url = ngrok.connect(5000)\n",
        "    run_with_ngrok(app)\n",
        "\n",
        "app = Flask(__name__)\n",
        "ngrok_start()\n",
        "\n",
        "line_bot_api = LineBotApi(userdata.get('LINE_CHANNEL_ACCESS_TOKEN'))\n",
        "handler = WebhookHandler(userdata.get('LINE_CHANNEL_SECRET'))\n",
        "\n",
        "@app.route(\"/callback\", methods=['POST'])\n",
        "def callback():\n",
        "    signature = request.headers['X-Line-Signature']\n",
        "    body = request.get_data(as_text=True)\n",
        "    try:\n",
        "        handler.handle(body, signature)\n",
        "    except InvalidSignatureError:\n",
        "        print(\"Invalid signature. Please check your channel access token/channel secret.\")\n",
        "        abort(400)\n",
        "    return 'OK'\n",
        "\n",
        "@handler.add(MessageEvent, message=TextMessage)\n",
        "def handle_text(event):\n",
        "    # confirm template\n",
        "    if event.message.text == 'confirm':\n",
        "        reply = TemplateSendMessage(\n",
        "            alt_text='這是一個確認訊息',\n",
        "            template=ConfirmTemplate(\n",
        "                text='你喜歡芙莉蓮嗎？',\n",
        "                actions=[\n",
        "                    MessageAction(label='是', text='我超喜歡的'),\n",
        "                    MessageAction(label='否', text='雖然很喜歡，但我要傲驕的說否')\n",
        "                ]\n",
        "            )\n",
        "        )\n",
        "    # buttons template\n",
        "    elif event.message.text == 'buttons':\n",
        "        reply = TemplateSendMessage(\n",
        "            alt_text='這是一個按鈕選單',\n",
        "            template=ButtonsTemplate(\n",
        "                thumbnail_image_url='https://cdn.pixabay.com/photo/2018/10/20/09/28/budapest-3760434_640.jpg',\n",
        "                title='功能選單',\n",
        "                text='請選擇一項操作',\n",
        "                actions=[\n",
        "                    URIAction(label='Pixabay', uri='https://pixabay.com/'),\n",
        "                    CameraAction(label='拍照'),\n",
        "                    CameraRollAction(label='選擇相片'),\n",
        "                    LocationAction(label='選擇位置')\n",
        "                ]\n",
        "            )\n",
        "        )\n",
        "    elif event.message.text == 'carousel':\n",
        "        reply = TemplateSendMessage(\n",
        "            alt_text='這是選單列表',\n",
        "            template=CarouselTemplate(\n",
        "                columns=[\n",
        "                    CarouselColumn(\n",
        "                        thumbnail_image_url='https://upload.wikimedia.org/wikipedia/zh/7/7d/Summer_Wars_poster.jpg',\n",
        "                        title='夏日大作戰',\n",
        "                        text='2009年上映的日本科幻暨浪漫電影',\n",
        "                        actions=[\n",
        "                            MessageAction(label='選我', text='細田守一票'),\n",
        "                            URIAction(label='看更多', uri='https://zh.wikipedia.org/zh-tw/%E5%A4%8F%E6%97%A5%E5%A4%A7%E4%BD%9C%E6%88%B0')\n",
        "                        ]\n",
        "                    ),\n",
        "                    CarouselColumn(\n",
        "                        thumbnail_image_url='https://upload.wikimedia.org/wikipedia/zh/thumb/4/4f/Castle_of_Cagliostro_poster.png/250px-Castle_of_Cagliostro_poster.png',\n",
        "                        title='魯邦三世 卡里奧斯特羅城',\n",
        "                        text='1979年上映的日本動畫動作冒險喜劇電影',\n",
        "                        actions=[\n",
        "                            MessageAction(label='選我', text='宮崎駿一票'),\n",
        "                            URIAction(label='看更多', uri='https://zh.wikipedia.org/zh-tw/%E9%AD%AF%E9%82%A6%E4%B8%89%E4%B8%96_%E5%8D%A1%E9%87%8C%E5%A5%A7%E6%96%AF%E7%89%B9%E7%BE%85%E4%B9%8B%E5%9F%8E')\n",
        "                        ]\n",
        "                    )\n",
        "                ]\n",
        "            )\n",
        "        )\n",
        "    elif event.message.text == 'imageCarousel':\n",
        "        reply = TemplateSendMessage(\n",
        "            alt_text='這是圖片選單',\n",
        "            template=ImageCarouselTemplate(\n",
        "                columns=[\n",
        "                    ImageCarouselColumn(\n",
        "                        image_url='https://upload.wikimedia.org/wikipedia/zh/7/7d/Summer_Wars_poster.jpg',\n",
        "                        action=PostbackAction(\n",
        "                            label='夏日大作戰',\n",
        "                            data='action=select&item=A'\n",
        "                        )\n",
        "                    ),\n",
        "                    ImageCarouselColumn(\n",
        "                        image_url='https://upload.wikimedia.org/wikipedia/zh/thumb/4/4f/Castle_of_Cagliostro_poster.png/250px-Castle_of_Cagliostro_poster.png',\n",
        "                        action=PostbackAction(\n",
        "                            label='魯邦三世 卡里奧斯特羅城',\n",
        "                            data='action=select&item=B'\n",
        "                        )\n",
        "                    )\n",
        "                ]\n",
        "            )\n",
        "        )\n",
        "    else:\n",
        "        reply = TextSendMessage(text=event.message.text)\n",
        "    line_bot_api.reply_message(event.reply_token, reply)\n",
        "# 處理 image_carousel 的 postback 訊息\n",
        "@handler.add(PostbackEvent)\n",
        "def handle_postback(event):\n",
        "    data = event.postback.data\n",
        "\n",
        "    if data == \"action=select&item=A\":\n",
        "        line_bot_api.reply_message(event.reply_token, TextSendMessage(text=\"你選了 夏日大作戰\"))\n",
        "    elif data == \"action=select&item=B\":\n",
        "        line_bot_api.reply_message(event.reply_token, TextSendMessage(text=\"你選了 魯邦三世 卡里奧斯特羅城\"))\n",
        "    else:\n",
        "        line_bot_api.reply_message(event.reply_token, TextSendMessage(text=f\"你選了：{data}\"))\n",
        "\n",
        "\n",
        "# 啟動 web server\n",
        "app.run()"
      ],
      "metadata": {
        "colab": {
          "base_uri": "https://localhost:8080/"
        },
        "id": "N-lDGVomOiLX",
        "outputId": "4641a6a7-aa50-4b82-b619-4854af7d3a4a"
      },
      "execution_count": null,
      "outputs": [
        {
          "output_type": "stream",
          "name": "stdout",
          "text": []
        },
        {
          "output_type": "stream",
          "name": "stderr",
          "text": [
            "<ipython-input-3-2abc0bff8124>:29: LineBotSdkDeprecatedIn30: Call to deprecated class LineBotApi. (Use v3 class; linebot.v3.<feature>. See https://github.com/line/line-bot-sdk-python/blob/master/README.rst for more details.) -- Deprecated since version 3.0.0.\n",
            "  line_bot_api = LineBotApi(userdata.get('LINE_CHANNEL_ACCESS_TOKEN'))\n"
          ]
        },
        {
          "output_type": "stream",
          "name": "stdout",
          "text": [
            " * Serving Flask app '__main__'\n",
            " * Debug mode: off\n"
          ]
        },
        {
          "output_type": "stream",
          "name": "stderr",
          "text": [
            "<ipython-input-3-2abc0bff8124>:30: LineBotSdkDeprecatedIn30: Call to deprecated class WebhookHandler. (Use 'from linebot.v3.webhook import WebhookHandler' instead. See https://github.com/line/line-bot-sdk-python/blob/master/README.rst for more details.) -- Deprecated since version 3.0.0.\n",
            "  handler = WebhookHandler(userdata.get('LINE_CHANNEL_SECRET'))\n",
            "INFO:werkzeug:\u001b[31m\u001b[1mWARNING: This is a development server. Do not use it in a production deployment. Use a production WSGI server instead.\u001b[0m\n",
            " * Running on http://127.0.0.1:5000\n",
            "INFO:werkzeug:\u001b[33mPress CTRL+C to quit\u001b[0m\n"
          ]
        },
        {
          "output_type": "stream",
          "name": "stdout",
          "text": [
            " * Running on http://4ff0-34-106-101-32.ngrok-free.app\n",
            " * Traffic stats available on http://127.0.0.1:4040\n"
          ]
        },
        {
          "output_type": "stream",
          "name": "stderr",
          "text": [
            "INFO:werkzeug:127.0.0.1 - - [19/Apr/2025 14:26:06] \"\u001b[33mGET / HTTP/1.1\u001b[0m\" 404 -\n",
            "INFO:werkzeug:127.0.0.1 - - [19/Apr/2025 14:26:07] \"\u001b[33mGET /favicon.ico HTTP/1.1\u001b[0m\" 404 -\n",
            "INFO:werkzeug:127.0.0.1 - - [19/Apr/2025 14:26:52] \"POST /callback HTTP/1.1\" 200 -\n",
            "<ipython-input-3-2abc0bff8124>:123: LineBotSdkDeprecatedIn30: Call to deprecated method reply_message. (Use 'from linebot.v3.messaging import MessagingApi' and 'MessagingApi(...).reply_message(...)' instead. See https://github.com/line/line-bot-sdk-python/blob/master/README.rst for more details.) -- Deprecated since version 3.0.0.\n",
            "  line_bot_api.reply_message(event.reply_token, reply)\n",
            "INFO:werkzeug:127.0.0.1 - - [19/Apr/2025 14:27:39] \"POST /callback HTTP/1.1\" 200 -\n"
          ]
        }
      ]
    }
  ]
}