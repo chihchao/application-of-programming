{
  "nbformat": 4,
  "nbformat_minor": 0,
  "metadata": {
    "colab": {
      "provenance": [],
      "authorship_tag": "ABX9TyPeWKIjNyZHa4+q5dPD1hAz",
      "include_colab_link": true
    },
    "kernelspec": {
      "name": "python3",
      "display_name": "Python 3"
    },
    "language_info": {
      "name": "python"
    }
  },
  "cells": [
    {
      "cell_type": "markdown",
      "metadata": {
        "id": "view-in-github",
        "colab_type": "text"
      },
      "source": [
        "<a href=\"https://colab.research.google.com/github/chihchao/application-of-programming/blob/main/web_system_reading_chatbot.ipynb\" target=\"_parent\"><img src=\"https://colab.research.google.com/assets/colab-badge.svg\" alt=\"Open In Colab\"/></a>"
      ]
    },
    {
      "cell_type": "code",
      "source": [
        "!pip install -q gradio google-generativeai"
      ],
      "metadata": {
        "id": "LcC_1WNBkpIG",
        "colab": {
          "base_uri": "https://localhost:8080/"
        },
        "outputId": "4dbf932b-2380-4db7-c369-5bbc61523ed6"
      },
      "execution_count": 2,
      "outputs": [
        {
          "output_type": "stream",
          "name": "stdout",
          "text": [
            "\u001b[2K   \u001b[90m━━━━━━━━━━━━━━━━━━━━━━━━━━━━━━━━━━━━━━━━\u001b[0m \u001b[32m54.2/54.2 MB\u001b[0m \u001b[31m14.1 MB/s\u001b[0m eta \u001b[36m0:00:00\u001b[0m\n",
            "\u001b[2K   \u001b[90m━━━━━━━━━━━━━━━━━━━━━━━━━━━━━━━━━━━━━━━━\u001b[0m \u001b[32m323.1/323.1 kB\u001b[0m \u001b[31m15.4 MB/s\u001b[0m eta \u001b[36m0:00:00\u001b[0m\n",
            "\u001b[2K   \u001b[90m━━━━━━━━━━━━━━━━━━━━━━━━━━━━━━━━━━━━━━━━\u001b[0m \u001b[32m95.2/95.2 kB\u001b[0m \u001b[31m6.6 MB/s\u001b[0m eta \u001b[36m0:00:00\u001b[0m\n",
            "\u001b[2K   \u001b[90m━━━━━━━━━━━━━━━━━━━━━━━━━━━━━━━━━━━━━━━━\u001b[0m \u001b[32m11.6/11.6 MB\u001b[0m \u001b[31m79.1 MB/s\u001b[0m eta \u001b[36m0:00:00\u001b[0m\n",
            "\u001b[2K   \u001b[90m━━━━━━━━━━━━━━━━━━━━━━━━━━━━━━━━━━━━━━━━\u001b[0m \u001b[32m72.0/72.0 kB\u001b[0m \u001b[31m4.9 MB/s\u001b[0m eta \u001b[36m0:00:00\u001b[0m\n",
            "\u001b[2K   \u001b[90m━━━━━━━━━━━━━━━━━━━━━━━━━━━━━━━━━━━━━━━━\u001b[0m \u001b[32m62.5/62.5 kB\u001b[0m \u001b[31m3.8 MB/s\u001b[0m eta \u001b[36m0:00:00\u001b[0m\n",
            "\u001b[?25h"
          ]
        }
      ]
    },
    {
      "cell_type": "code",
      "source": [
        "from google.colab import userdata\n",
        "from google import genai\n",
        "\n",
        "client = genai.Client(api_key=userdata.get('GOOGLE_API_KEY'))\n",
        "\n",
        "response = client.models.generate_content(\n",
        "    model=\"gemini-2.0-flash\",\n",
        "    contents=[\"How does AI work?\"]\n",
        ")\n",
        "print(response.text)"
      ],
      "metadata": {
        "id": "4tM33SAUlVtt"
      },
      "execution_count": null,
      "outputs": []
    },
    {
      "cell_type": "code",
      "source": [
        "import gradio as gr\n",
        "from google import genai\n",
        "from google.colab import userdata\n",
        "\n",
        "api_key=userdata.get('GOOGLE_API_KEY')\n",
        "\n",
        "client = genai.Client(api_key=api_key)\n",
        "\n",
        "\n",
        "text = '''\n",
        "《越休息越背痛？小心僵直性脊椎炎正在悄悄找上你！》\n",
        "你曾有過持續背痛，休息越久反而越不舒服，甚至因此駝背的狀況嗎？小心，可能是僵直性脊椎炎（Ankylosing Spondylitis, AS）！童綜合醫院過敏免疫風濕科主任邱瑩明醫師解釋，僵直性脊椎炎是一種自體免疫疾病，最常見症狀為持續的背部疼痛，但因容易被誤認為一般肌肉疼痛而忽略。疾病好發於青少年至年輕成人，從十幾歲便可能開始發病，且男性患者的比例顯著高於女性，約為4:1，患者發病時可能正值青年，而因疾病影響了原本的生活、工作計劃。\n",
        "「年輕男性出現駝背，為僵直性脊椎炎明顯特徵，若未持續治療，恐對外觀造成影響。」邱瑩明醫師分享，在診間曾遇過一名高中生因背痛、駝背就診，進而診斷為僵直性脊椎炎。然而，該患者卻在症狀改善後，就自行中斷療程，數年後因疼痛加劇來到門診就醫，不只病情惡化、駝背加深，更造成脊椎不可逆的損傷，顯示持續治療的重要性。\n",
        "延誤診斷恐失能！五大症狀符合一項，應至風濕免疫科就診\n",
        "除了持續治療外，延誤就診的風險也不可輕忽！研究顯示，僵直性脊椎炎的延誤就醫平均時間長達 5 至 10 年。邱瑩明醫師補充說明，臨床上常見患者因症狀輕微或誤認為肌肉痠痛，而不知道自身患有僵直性脊椎炎。若不及時治療，可能引發脊椎反覆發炎沾黏，患者背部逐漸彎曲變形、無法站直，最終恐致失能。除脊椎病變外，患者也可能出現周邊關節炎、虹彩炎、跟腱炎、發炎性腸道疾病、乾癬等。因此早期發現並積極治療至關重要，避免疾病發展至不可逆的階段。\n",
        "下背痛是僵直性脊椎炎最常見的症狀，與一般肌肉疼痛不同，患者在下背部或臀部會感到持續疼痛，尤其是在清晨或長時間靜止後，疼痛更加明顯。邱瑩明醫師分享，診間常見患者因腰痠背痛在半夜痛醒，或睡眠五到六個小時後就被痛醒。而一般人早上起床時可能覺得動作有些僵硬，但不會維持太久。若僵硬持續超過一小時，則需要注意，可能是僵直性脊椎炎的徵兆。\n",
        "包邱瑩明醫師也提醒，一般的腰痠背痛，會在活動時加劇，但僵直性脊椎炎的腰痠背痛，活動便得以改善，長時間不動反而更痛。若出現以下症狀就需注意：背部疼痛或夜間疼痛持續三個月以上、早晨僵硬感超過一個小時以上、越不動會越痛、活動後反而較不痛，請務必提高警覺，盡快至風濕免疫科檢查。\n",
        "'''\n",
        "\n",
        "prompt = f'''\n",
        "請你扮演一位國小老師。你的任務是引導學生理解文章內容。目前是進行一對一的指導。不需給老師的指導語。\n",
        "\n",
        "你的教學風格：\n",
        "友善、耐心、鼓勵： 使用簡單易懂的詞語，語氣溫和，多加鼓勵學生。\n",
        "提問引導： 透過一系列的提問，幫助學生思考文章的重點、細節和含義。\n",
        "循序漸進： 從簡單的問題開始，逐步深入，直到學生能完全理解文章內容。\n",
        "確保理解： 在每個問題之後，等待學生的回答，並根據回答判斷學生是否理解。如果學生回答不正確或不完整，請耐心引導他們思考。如果學生未針對問題回答也引導他們聚焦於問題。\n",
        "互動式對話： 不只是提問，也要像聊天一樣，讓學生感到輕鬆自在，願意表達自己的想法。\n",
        "總結確認： 在對話結束前，引導學生總結文章內容，確認他們已經完全理解。\n",
        "\n",
        "你的提問策略：\n",
        "初始提問： 從文章的主要人物、事件、地點等基本資訊開始。\n",
        "細節提問： 針對文章中的關鍵情節、原因、結果等進行提問。\n",
        "推論與感受提問： 鼓勵學生思考文章背後的意義、人物的感受、作者的意圖等。\n",
        "個人連結提問： 讓學生將文章內容與自己的經驗或生活連結，加深理解。\n",
        "\n",
        "開始提問：\n",
        "當收到問候或開始的語詞時，開始提問。\n",
        "\n",
        "對話結束條件：\n",
        "你判斷學生已經完全理解文章的所有重點和含義。\n",
        "學生能夠用自己的話清楚地講述文章內容。\n",
        "\n",
        "文章內容如下：\n",
        "{text}\n",
        "'''\n",
        "\n",
        "chat = client.chats.create(model=\"gemini-2.0-flash\")\n",
        "\n",
        "init_response = chat.send_message(prompt)\n",
        "\n",
        "def respond(message, history):\n",
        "    response = chat.send_message(message)\n",
        "    return response.text\n",
        "\n",
        "demo = gr.ChatInterface(\n",
        "    fn=respond,\n",
        "    title=\"Gemini 聊天機器人\",\n",
        "    chatbot=gr.Chatbot(\n",
        "        type=\"messages\",\n",
        "        value=[\n",
        "            {\"role\": \"assistant\", \"content\": init_response.text}\n",
        "        ]\n",
        "    )\n",
        ")\n",
        "\n",
        "demo.launch()"
      ],
      "metadata": {
        "colab": {
          "base_uri": "https://localhost:8080/",
          "height": 680
        },
        "id": "xCi_NCbV4MKr",
        "outputId": "ef6b3c2b-4049-4381-abdf-f0895dc35b98"
      },
      "execution_count": 14,
      "outputs": [
        {
          "output_type": "stream",
          "name": "stderr",
          "text": [
            "/usr/local/lib/python3.11/dist-packages/gradio/chat_interface.py:322: UserWarning: The gr.ChatInterface was not provided with a type, so the type of the gr.Chatbot, 'messages', will be used.\n",
            "  warnings.warn(\n"
          ]
        },
        {
          "output_type": "stream",
          "name": "stdout",
          "text": [
            "It looks like you are running Gradio on a hosted a Jupyter notebook. For the Gradio app to work, sharing must be enabled. Automatically setting `share=True` (you can turn this off by setting `share=False` in `launch()` explicitly).\n",
            "\n",
            "Colab notebook detected. To show errors in colab notebook, set debug=True in launch()\n",
            "* Running on public URL: https://196dabf3c3cf6b9f5d.gradio.live\n",
            "\n",
            "This share link expires in 1 week. For free permanent hosting and GPU upgrades, run `gradio deploy` from the terminal in the working directory to deploy to Hugging Face Spaces (https://huggingface.co/spaces)\n"
          ]
        },
        {
          "output_type": "display_data",
          "data": {
            "text/plain": [
              "<IPython.core.display.HTML object>"
            ],
            "text/html": [
              "<div><iframe src=\"https://196dabf3c3cf6b9f5d.gradio.live\" width=\"100%\" height=\"500\" allow=\"autoplay; camera; microphone; clipboard-read; clipboard-write;\" frameborder=\"0\" allowfullscreen></iframe></div>"
            ]
          },
          "metadata": {}
        },
        {
          "output_type": "execute_result",
          "data": {
            "text/plain": []
          },
          "metadata": {},
          "execution_count": 14
        }
      ]
    },
    {
      "cell_type": "code",
      "source": [
        "import gradio as gr\n",
        "from google import genai\n",
        "from google.colab import userdata\n",
        "\n",
        "api_key = userdata.get('GOOGLE_API_KEY')\n",
        "client = genai.Client(api_key=api_key)\n",
        "\n",
        "text = '''\n",
        "### 鳥兒為什麼能飛上天空？\n",
        "\n",
        "你有沒有想過，鳥兒為什麼能自由自在地在天空中飛翔呢？其實，科學家們也對這個問題充滿了好奇，並且花了很多時間進行研究。要了解鳥類如何飛行，我們必須先認識四種重要的力量：升力、推力、空氣阻力和重力。\n",
        "\n",
        "首先，我們來了解升力。鳥類的翅膀有特別的設計，上面彎曲、下面則比較平坦。當空氣流過翅膀時，上方的空氣流動得比較快，下方的空氣則比較慢。根據科學原理，上方空氣流速快，壓力小，下方空氣流速慢，壓力大，這樣一來就能產生向上的力量，讓鳥兒升上天空。鳥類也能調整翅膀的角度（稱為攻角），改變升力的大小，維持平穩的飛行。\n",
        "\n",
        "再來說說推力，這是鳥類往前飛的動力。鳥兒飛行時會拍動翅膀，特別是在向下揮動的時候，除了產生升力，還會向後推動空氣，這樣就產生了讓鳥向前飛的力量。不同的鳥類有不同的推進方法，比如老鷹常常利用滑翔減少拍翅次數，而燕子則需要快速不停地拍翅，以維持靈活的飛行。\n",
        "\n",
        "第三種力量是空氣阻力，這是鳥類飛行時遇到的阻礙。當鳥兒在空中飛行時，牠們的身體和空氣接觸會產生摩擦力，使得飛行速度減慢。為了降低這個阻力，鳥兒的身體通常都是流線型的。比如游隼在高速飛行時，甚至會將翅膀緊緊收起，讓整個身體更細長，以最大程度減少空氣阻力。此外，翅膀在拍動時也會產生小渦流，增加阻力，因此鳥類需要有技巧地調整翅膀來保持穩定。\n",
        "\n",
        "第四種力量就是重力。只要是在地球上的物體，都會被地球吸引，鳥兒當然也不例外。為了克服重力，鳥兒必須產生足夠的升力。鳥類在演化中發展出了特殊的身體結構，例如牠們的骨頭內部充滿了許多空洞，既堅固又輕盈，這樣就能更有效地對抗重力。\n",
        "\n",
        "但鳥兒一開始是怎麼學會飛行的呢？目前科學家提出了兩個主要的理論。一個叫做「地面起飛假說」，認為鳥類的祖先是生活在地面上奔跑的恐龍，牠們在追逐獵物時，跳躍的動作逐漸進化成了飛行能力；另一個理論是「樹棲假說」，認為鳥的祖先是生活在樹上的恐龍，牠們從樹上跳下時會滑翔，久而久之便進化成了能夠拍動翅膀主動飛行的鳥類。\n",
        "\n",
        "這兩種假說到現在仍然沒有定論，科學家們還在不斷地研究和爭論。但是透過這些簡單的物理原理和模型，比如物理學家常用的「球形雞」這樣的趣味例子，我們能逐漸理解，這些看似神奇的鳥兒，究竟如何優雅地翱翔在天空之中。\n",
        "\n",
        "本文摘要自 博學多文 - [鳥革翬飛：從物理學家的球形雞看鳥類飛行](https://epub.nmns.edu.tw/m202503-1/)\n",
        "'''\n",
        "\n",
        "prompt = f'''\n",
        "請你扮演一位國小老師。你的任務是引導學生理解文章內容。目前是進行一對一的指導。不需給老師的指導語。\n",
        "\n",
        "你的教學風格：\n",
        "友善、耐心、鼓勵： 使用簡單易懂的詞語，語氣溫和，多加鼓勵學生。\n",
        "提問引導： 透過一系列的提問，幫助學生思考文章的重點、細節和含義。\n",
        "循序漸進： 從簡單的問題開始，逐步深入，直到學生能完全理解文章內容。\n",
        "確保理解： 在每個問題之後，等待學生的回答，並根據回答判斷學生是否理解。如果學生回答不正確或不完整，請耐心引導他們思考。如果學生未針對問題回答也引導他們聚焦於問題。\n",
        "互動式對話： 不只是提問，也要像聊天一樣，讓學生感到輕鬆自在，願意表達自己的想法。\n",
        "總結確認： 在對話結束前，引導學生總結文章內容，確認他們已經完全理解。\n",
        "\n",
        "你的提問策略：\n",
        "初始提問： 從文章的主要人物、事件、地點等基本資訊開始。\n",
        "細節提問： 針對文章中的關鍵情節、原因、結果等進行提問。\n",
        "推論與感受提問： 鼓勵學生思考文章背後的意義、人物的感受、作者的意圖等。\n",
        "個人連結提問： 讓學生將文章內容與自己的經驗或生活連結，加深理解。\n",
        "\n",
        "對話結束條件：\n",
        "你判斷學生已經完全理解文章的所有重點和含義。\n",
        "學生能夠用自己的話清楚地講述文章內容。\n",
        "\n",
        "文章內容如下：\n",
        "{text}\n",
        "'''\n",
        "\n",
        "# 初始化 chat 並回傳開場訊息\n",
        "def init_chat():\n",
        "    chat = client.chats.create(model=\"gemini-2.0-flash\")\n",
        "    init_response = chat.send_message(prompt)\n",
        "    return chat, [{\"role\": \"assistant\", \"content\": init_response.text}]\n",
        "\n",
        "# 回應訊息的邏輯\n",
        "def respond(message, history, chat):\n",
        "    response = chat.send_message(message)\n",
        "    history.append({\"role\": \"user\", \"content\": message})\n",
        "    history.append({\"role\": \"assistant\", \"content\": response.text})\n",
        "    return history, chat, \"\"\n",
        "\n",
        "with gr.Blocks() as demo:\n",
        "    state = gr.State()  # 儲存 chat 對象\n",
        "    with gr.Row():\n",
        "        with gr.Column(scale=1):  # 左側：文章\n",
        "            gr.Markdown(\"## 文章內容\")\n",
        "            gr.Markdown(text)\n",
        "        with gr.Column(scale=2):  # 右側：對話介面\n",
        "            chatbot = gr.Chatbot(label=\"科學閱讀機器人\",type=\"messages\")\n",
        "            msg = gr.Textbox(label=\"輸入你的回覆\")\n",
        "\n",
        "    def start():\n",
        "        chat, init_messages = init_chat()\n",
        "        return chat, init_messages\n",
        "\n",
        "    # 初始化\n",
        "    demo.load(start, outputs=[state, chatbot])\n",
        "\n",
        "    # 傳送訊息\n",
        "    msg.submit(fn=respond, inputs=[msg, chatbot, state], outputs=[chatbot, state, msg])\n",
        "\n",
        "demo.launch()\n"
      ],
      "metadata": {
        "colab": {
          "base_uri": "https://localhost:8080/",
          "height": 646
        },
        "id": "dYYlBBrIwCMa",
        "outputId": "1083b858-6477-4b60-df74-a38be187b772"
      },
      "execution_count": 3,
      "outputs": [
        {
          "output_type": "stream",
          "name": "stdout",
          "text": [
            "It looks like you are running Gradio on a hosted a Jupyter notebook. For the Gradio app to work, sharing must be enabled. Automatically setting `share=True` (you can turn this off by setting `share=False` in `launch()` explicitly).\n",
            "\n",
            "Colab notebook detected. To show errors in colab notebook, set debug=True in launch()\n",
            "* Running on public URL: https://ea2f64ce63262dd3f5.gradio.live\n",
            "\n",
            "This share link expires in 1 week. For free permanent hosting and GPU upgrades, run `gradio deploy` from the terminal in the working directory to deploy to Hugging Face Spaces (https://huggingface.co/spaces)\n"
          ]
        },
        {
          "output_type": "display_data",
          "data": {
            "text/plain": [
              "<IPython.core.display.HTML object>"
            ],
            "text/html": [
              "<div><iframe src=\"https://ea2f64ce63262dd3f5.gradio.live\" width=\"100%\" height=\"500\" allow=\"autoplay; camera; microphone; clipboard-read; clipboard-write;\" frameborder=\"0\" allowfullscreen></iframe></div>"
            ]
          },
          "metadata": {}
        },
        {
          "output_type": "execute_result",
          "data": {
            "text/plain": []
          },
          "metadata": {},
          "execution_count": 3
        }
      ]
    }
  ]
}