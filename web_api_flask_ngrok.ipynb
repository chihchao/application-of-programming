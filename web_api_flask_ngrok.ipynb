{
  "nbformat": 4,
  "nbformat_minor": 0,
  "metadata": {
    "colab": {
      "provenance": [],
      "authorship_tag": "ABX9TyNe0eaNieVb4UUT10L4+DHz",
      "include_colab_link": true
    },
    "kernelspec": {
      "name": "python3",
      "display_name": "Python 3"
    },
    "language_info": {
      "name": "python"
    }
  },
  "cells": [
    {
      "cell_type": "markdown",
      "metadata": {
        "id": "view-in-github",
        "colab_type": "text"
      },
      "source": [
        "<a href=\"https://colab.research.google.com/github/chihchao/application-of-programming/blob/main/web_api_flask_ngrok.ipynb\" target=\"_parent\"><img src=\"https://colab.research.google.com/assets/colab-badge.svg\" alt=\"Open In Colab\"/></a>"
      ]
    },
    {
      "cell_type": "code",
      "source": [
        "!pip install flask\n",
        "!pip install pyngrok\n",
        "!pip install flask_ngrok"
      ],
      "metadata": {
        "id": "4zW2tbwjL1gt"
      },
      "execution_count": null,
      "outputs": []
    },
    {
      "cell_type": "markdown",
      "source": [
        "### 查詢埠位服務指令"
      ],
      "metadata": {
        "id": "QhPk6iwb18SD"
      }
    },
    {
      "cell_type": "code",
      "source": [
        "!netstat -p tcp"
      ],
      "metadata": {
        "id": "evH1Ff5P1_bm"
      },
      "execution_count": null,
      "outputs": []
    },
    {
      "cell_type": "code",
      "source": [
        "!netstat -an | grep 5000"
      ],
      "metadata": {
        "id": "Sg2C1qAM2oqO"
      },
      "execution_count": 7,
      "outputs": []
    },
    {
      "cell_type": "markdown",
      "source": [
        "### Flask Web"
      ],
      "metadata": {
        "id": "2ldTf2aX23wS"
      }
    },
    {
      "cell_type": "markdown",
      "source": [
        "如果 ngrok 有問題考慮以下解決方案\n",
        "\n",
        "```pyton\n",
        "from pyngrok import ngrok, conf\n",
        "conf.get_default().region = \"jp\"\n",
        "```\n"
      ],
      "metadata": {
        "id": "ByLpoj9C1PH1"
      }
    },
    {
      "cell_type": "code",
      "source": [
        "from flask import Flask, request, render_template\n",
        "from pyngrok import ngrok\n",
        "from flask_ngrok import run_with_ngrok\n",
        "from google.colab import userdata\n",
        "\n",
        "app = Flask(__name__)\n",
        "\n",
        "@app.route('/')\n",
        "def index():\n",
        "    return \"Hello, World!\"\n",
        "\n",
        "# 路由參數（Path Parameters）\n",
        "@app.route('/hello/<name>')\n",
        "def hello(name):\n",
        "    return f\"Hello, {name}!\"\n",
        "\n",
        "# 查詢參數（Query Parameters）需from flask import request\n",
        "@app.route('/user')\n",
        "def search():\n",
        "    name = request.args.get('name')\n",
        "    return f\"User: {name}\"\n",
        "\n",
        "# HTML 模板 templates/index.html，需from flask import render_template\n",
        "@app.route('/home')\n",
        "def home():\n",
        "    return render_template('index.html')\n",
        "\n",
        "\n",
        "ngrok.set_auth_token(userdata.get('NGROK_AUTHTOKEN'))\n",
        "ngrok.connect(5000)\n",
        "run_with_ngrok(app)\n",
        "if __name__ == '__main__':\n",
        "    app.run()"
      ],
      "metadata": {
        "colab": {
          "base_uri": "https://localhost:8080/"
        },
        "id": "kcFAnzsNYwmR",
        "outputId": "fa0648b5-51b1-44d6-d259-a3039c204d2d"
      },
      "execution_count": 3,
      "outputs": [
        {
          "output_type": "stream",
          "name": "stdout",
          "text": [
            " * Serving Flask app '__main__'\n",
            " * Debug mode: off\n"
          ]
        },
        {
          "output_type": "stream",
          "name": "stderr",
          "text": [
            "INFO:werkzeug:\u001b[31m\u001b[1mWARNING: This is a development server. Do not use it in a production deployment. Use a production WSGI server instead.\u001b[0m\n",
            " * Running on http://127.0.0.1:5000\n",
            "INFO:werkzeug:\u001b[33mPress CTRL+C to quit\u001b[0m\n"
          ]
        },
        {
          "output_type": "stream",
          "name": "stdout",
          "text": [
            " * Running on http://b797-35-221-55-44.ngrok-free.app\n",
            " * Traffic stats available on http://127.0.0.1:4040\n"
          ]
        },
        {
          "output_type": "stream",
          "name": "stderr",
          "text": [
            "INFO:werkzeug:127.0.0.1 - - [18/Apr/2025 02:42:47] \"GET / HTTP/1.1\" 200 -\n",
            "INFO:werkzeug:127.0.0.1 - - [18/Apr/2025 02:42:47] \"\u001b[33mGET /favicon.ico HTTP/1.1\u001b[0m\" 404 -\n",
            "INFO:werkzeug:127.0.0.1 - - [18/Apr/2025 02:42:53] \"GET /home HTTP/1.1\" 200 -\n"
          ]
        }
      ]
    }
  ]
}