{
  "nbformat": 4,
  "nbformat_minor": 0,
  "metadata": {
    "colab": {
      "provenance": [],
      "authorship_tag": "ABX9TyMM6d1DggVDtWQtTPFFAhi6",
      "include_colab_link": true
    },
    "kernelspec": {
      "name": "python3",
      "display_name": "Python 3"
    },
    "language_info": {
      "name": "python"
    }
  },
  "cells": [
    {
      "cell_type": "markdown",
      "metadata": {
        "id": "view-in-github",
        "colab_type": "text"
      },
      "source": [
        "<a href=\"https://colab.research.google.com/github/chihchao/application-of-programming/blob/main/web_system_firebase_cloud_firestore.ipynb\" target=\"_parent\"><img src=\"https://colab.research.google.com/assets/colab-badge.svg\" alt=\"Open In Colab\"/></a>"
      ]
    },
    {
      "cell_type": "code",
      "execution_count": 1,
      "metadata": {
        "id": "V_tpcgRC9b9d"
      },
      "outputs": [],
      "source": [
        "!pip install -q firebase-admin"
      ]
    },
    {
      "cell_type": "code",
      "source": [
        "from google.colab import userdata\n",
        "\n",
        "import firebase_admin\n",
        "from firebase_admin import credentials, firestore\n",
        "import json\n",
        "\n",
        "# 1. 從環境變數讀取服務帳戶 JSON\n",
        "service_account_info = json.loads(userdata.get('FIREBASE_SERVICE_ACCOUNT_JSON'))\n",
        "\n",
        "# 2. 用這個資料初始化 Firebase Admin\n",
        "cred = credentials.Certificate(service_account_info)\n",
        "if not firebase_admin._apps:\n",
        "    # 載入服務帳戶金鑰\n",
        "    firebase_admin.initialize_app(cred)\n",
        "\n",
        "# 初始化 Firestore 客戶端\n",
        "db = firestore.client()\n"
      ],
      "metadata": {
        "id": "NtpVNP23Ta5S"
      },
      "execution_count": 2,
      "outputs": []
    },
    {
      "cell_type": "code",
      "source": [
        "db.collection(\"users\").document(\"user1\").set({\n",
        "    \"name\": \"Alice\",\n",
        "    \"age\": 30,\n",
        "    \"email\": \"alice@example.com\"\n",
        "})"
      ],
      "metadata": {
        "colab": {
          "base_uri": "https://localhost:8080/"
        },
        "id": "PFV7VRSUTpJD",
        "outputId": "4dfc10cd-8059-4095-f640-aa8f8e65b714"
      },
      "execution_count": 3,
      "outputs": [
        {
          "output_type": "execute_result",
          "data": {
            "text/plain": [
              "update_time {\n",
              "  seconds: 1745759793\n",
              "  nanos: 321703000\n",
              "}"
            ]
          },
          "metadata": {},
          "execution_count": 3
        }
      ]
    },
    {
      "cell_type": "code",
      "source": [
        "# 取得 'user1' 文件的內容\n",
        "doc = db.collection(\"users\").document(\"user1\").get()\n",
        "if doc.exists:\n",
        "    print(doc.to_dict())\n",
        "else:\n",
        "    print(\"找不到文件\")\n"
      ],
      "metadata": {
        "colab": {
          "base_uri": "https://localhost:8080/"
        },
        "id": "IEByNKzVUCEe",
        "outputId": "7d4751e3-a971-49cd-f8ce-d91aea4e1f9d"
      },
      "execution_count": 4,
      "outputs": [
        {
          "output_type": "stream",
          "name": "stdout",
          "text": [
            "{'age': 30, 'email': 'alice@example.com', 'name': 'Alice'}\n"
          ]
        }
      ]
    },
    {
      "cell_type": "code",
      "source": [
        "# 更新 'user1' 文件中的 'age' 欄位\n",
        "db.collection(\"users\").document(\"user1\").update({\n",
        "    \"age\": 31\n",
        "})\n",
        "# 確認是否更新\n",
        "doc = db.collection(\"users\").document(\"user1\").get()\n",
        "doc.to_dict()"
      ],
      "metadata": {
        "colab": {
          "base_uri": "https://localhost:8080/"
        },
        "id": "b9ovYug7UK_l",
        "outputId": "eb019dfa-77f8-4636-d433-f92de9a984af"
      },
      "execution_count": 5,
      "outputs": [
        {
          "output_type": "execute_result",
          "data": {
            "text/plain": [
              "update_time {\n",
              "  seconds: 1745758563\n",
              "  nanos: 567812000\n",
              "}"
            ]
          },
          "metadata": {},
          "execution_count": 5
        }
      ]
    },
    {
      "cell_type": "code",
      "source": [
        "doc = db.collection(\"users\").document(\"user1\").get()\n",
        "doc.to_dict()"
      ],
      "metadata": {
        "colab": {
          "base_uri": "https://localhost:8080/"
        },
        "id": "xAbyIfr8UdGQ",
        "outputId": "dfec5c8b-6e24-469b-bad0-22423d51e071"
      },
      "execution_count": 7,
      "outputs": [
        {
          "output_type": "execute_result",
          "data": {
            "text/plain": [
              "{'age': 31, 'email': 'alice@example.com', 'name': 'Alice'}"
            ]
          },
          "metadata": {},
          "execution_count": 7
        }
      ]
    },
    {
      "cell_type": "code",
      "source": [
        "# 刪除 'user1' 文件\n",
        "db.collection(\"users\").document(\"user1\").delete()\n"
      ],
      "metadata": {
        "colab": {
          "base_uri": "https://localhost:8080/"
        },
        "id": "HU2ju23xUmMv",
        "outputId": "ce750f0b-c2f4-41fd-cff5-fc85b0d2fd9a"
      },
      "execution_count": 5,
      "outputs": [
        {
          "output_type": "execute_result",
          "data": {
            "text/plain": [
              "DatetimeWithNanoseconds(2025, 4, 27, 13, 16, 42, 180819, tzinfo=datetime.timezone.utc)"
            ]
          },
          "metadata": {},
          "execution_count": 5
        }
      ]
    }
  ]
}