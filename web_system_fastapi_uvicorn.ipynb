{
  "nbformat": 4,
  "nbformat_minor": 0,
  "metadata": {
    "colab": {
      "provenance": [],
      "authorship_tag": "ABX9TyOqg1/JiQXGLbV1RoC9kUgj",
      "include_colab_link": true
    },
    "kernelspec": {
      "name": "python3",
      "display_name": "Python 3"
    },
    "language_info": {
      "name": "python"
    }
  },
  "cells": [
    {
      "cell_type": "markdown",
      "metadata": {
        "id": "view-in-github",
        "colab_type": "text"
      },
      "source": [
        "<a href=\"https://colab.research.google.com/github/chihchao/application-of-programming/blob/main/web_system_fastapi_uvicorn.ipynb\" target=\"_parent\"><img src=\"https://colab.research.google.com/assets/colab-badge.svg\" alt=\"Open In Colab\"/></a>"
      ]
    },
    {
      "cell_type": "code",
      "execution_count": 6,
      "metadata": {
        "id": "aGsZUogQqC0d"
      },
      "outputs": [],
      "source": [
        "import os\n",
        "\n",
        "# 建立 templates 資料夾\n",
        "os.makedirs(\"templates\", exist_ok=True)\n",
        "\n",
        "# 建立 index.html\n",
        "with open(\"templates/index.html\", \"w\") as f:\n",
        "    f.write(\"\"\"\n",
        "<!DOCTYPE html>\n",
        "<html>\n",
        "<head>\n",
        "    <title>FastAPI + Jinja2 on Colab</title>\n",
        "</head>\n",
        "<body>\n",
        "    <h1>Hello, {{ name }}!</h1>\n",
        "</body>\n",
        "</html>\n",
        "    \"\"\")\n",
        "\n"
      ]
    },
    {
      "cell_type": "code",
      "source": [
        "!pip install -q fastapi uvicorn jinja2 aiofiles pyngrok nest-asyncio"
      ],
      "metadata": {
        "id": "4vaPMcy1wtLV"
      },
      "execution_count": null,
      "outputs": []
    },
    {
      "cell_type": "code",
      "source": [
        "from fastapi import FastAPI, Request\n",
        "from fastapi.templating import Jinja2Templates\n",
        "from fastapi.responses import HTMLResponse\n",
        "\n",
        "app = FastAPI()\n",
        "templates = Jinja2Templates(directory=\"templates\")\n",
        "\n",
        "@app.get(\"/\", response_class=HTMLResponse)\n",
        "async def read_root(request: Request):\n",
        "    return templates.TemplateResponse(\"index.html\", {\"request\": request, \"name\": \"World\"})\n",
        "\n",
        "@app.get(\"/hello\", response_class=HTMLResponse)\n",
        "async def say_hello(request: Request):\n",
        "    params = dict(request.query_params)\n",
        "    return templates.TemplateResponse(\"index.html\", {\"request\": request, \"name\": params})"
      ],
      "metadata": {
        "id": "xVBSA5BGwvkN"
      },
      "execution_count": 9,
      "outputs": []
    },
    {
      "cell_type": "code",
      "source": [
        "from google.colab import userdata\n",
        "import nest_asyncio\n",
        "import uvicorn\n",
        "from pyngrok import ngrok\n",
        "\n",
        "# 避免 Colab 中 asyncio 問題\n",
        "nest_asyncio.apply()\n",
        "\n",
        "# 使用 ngrok 建立 tunnel\n",
        "ngrok.set_auth_token(userdata.get('NGROK_AUTHTOKEN'))\n",
        "public_url = ngrok.connect(8000)\n",
        "print(f\"Public URL: {public_url}\")\n",
        "\n",
        "# 啟動 uvicorn 伺服器\n",
        "uvicorn.run(app, host=\"0.0.0.0\", port=8000)"
      ],
      "metadata": {
        "colab": {
          "base_uri": "https://localhost:8080/"
        },
        "id": "OCFVZQEVw4O9",
        "outputId": "abc69305-4291-4d08-e015-d70427f4f5dc"
      },
      "execution_count": 10,
      "outputs": [
        {
          "output_type": "stream",
          "name": "stdout",
          "text": [
            "Public URL: NgrokTunnel: \"https://9be9-35-245-94-240.ngrok-free.app\" -> \"http://localhost:8000\"\n"
          ]
        },
        {
          "output_type": "stream",
          "name": "stderr",
          "text": [
            "INFO:     Started server process [376]\n",
            "INFO:     Waiting for application startup.\n",
            "INFO:     Application startup complete.\n",
            "INFO:     Uvicorn running on http://0.0.0.0:8000 (Press CTRL+C to quit)\n"
          ]
        },
        {
          "output_type": "stream",
          "name": "stdout",
          "text": [
            "INFO:     2001:b011:e605:d6e0:b13c:56a6:21dd:fb69:0 - \"GET / HTTP/1.1\" 200 OK\n",
            "INFO:     2001:b011:e605:d6e0:b13c:56a6:21dd:fb69:0 - \"GET /favicon.ico HTTP/1.1\" 404 Not Found\n",
            "INFO:     2001:b011:e605:d6e0:b13c:56a6:21dd:fb69:0 - \"GET /hello HTTP/1.1\" 200 OK\n",
            "INFO:     2001:b011:e605:d6e0:b13c:56a6:21dd:fb69:0 - \"GET /hello?name= HTTP/1.1\" 200 OK\n",
            "INFO:     2001:b011:e605:d6e0:b13c:56a6:21dd:fb69:0 - \"GET /hello?name=18 HTTP/1.1\" 200 OK\n"
          ]
        },
        {
          "output_type": "stream",
          "name": "stderr",
          "text": [
            "INFO:     Shutting down\n",
            "INFO:     Waiting for application shutdown.\n",
            "INFO:     Application shutdown complete.\n",
            "INFO:     Finished server process [376]\n"
          ]
        }
      ]
    },
    {
      "cell_type": "markdown",
      "source": [
        "### 可以使用 threading 背景執行\n",
        "\n",
        "```python\n",
        "from pyngrok import ngrok\n",
        "import uvicorn\n",
        "import threading\n",
        "from google.colab import userdata\n",
        "# 建立 ngrok 公開網址\n",
        "ngrok.set_auth_token(userdata.get('NGROK_AUTHTOKEN'))\n",
        "public_url = ngrok.connect(8000)\n",
        "print(f\"Public URL: {public_url}\")\n",
        "\n",
        "# 啟動 FastAPI app\n",
        "def run_app():\n",
        "    uvicorn.run(app, host=\"0.0.0.0\", port=8000)\n",
        "\n",
        "threading.Thread(target=run_app).start()\n",
        "```\n"
      ],
      "metadata": {
        "id": "40J_PE_o7XZZ"
      }
    }
  ]
}