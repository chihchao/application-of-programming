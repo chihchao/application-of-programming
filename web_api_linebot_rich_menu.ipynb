{
  "nbformat": 4,
  "nbformat_minor": 0,
  "metadata": {
    "colab": {
      "provenance": [],
      "authorship_tag": "ABX9TyP1TOYom9FrAtu3mWgprgje",
      "include_colab_link": true
    },
    "kernelspec": {
      "name": "python3",
      "display_name": "Python 3"
    },
    "language_info": {
      "name": "python"
    }
  },
  "cells": [
    {
      "cell_type": "markdown",
      "metadata": {
        "id": "view-in-github",
        "colab_type": "text"
      },
      "source": [
        "<a href=\"https://colab.research.google.com/github/chihchao/application-of-programming/blob/main/web_api_linebot_rich_menu.ipynb\" target=\"_parent\"><img src=\"https://colab.research.google.com/assets/colab-badge.svg\" alt=\"Open In Colab\"/></a>"
      ]
    },
    {
      "cell_type": "code",
      "execution_count": 2,
      "metadata": {
        "id": "Lm2PBrwfT2_n"
      },
      "outputs": [],
      "source": [
        "!pip install -q flask pyngrok flask_ngrok line-bot-sdk"
      ]
    },
    {
      "cell_type": "markdown",
      "source": [
        "## Final Ver"
      ],
      "metadata": {
        "id": "mrO95u0j4kGc"
      }
    },
    {
      "cell_type": "code",
      "source": [
        "!wget -O rich_menu.png https://github.com/imchihchao/aop113b/raw/main/materials/05-rich_menu.png"
      ],
      "metadata": {
        "colab": {
          "base_uri": "https://localhost:8080/"
        },
        "id": "z1d1n6Ha5Vqo",
        "outputId": "97154893-35c5-40d0-bee9-b7f465b14dc9"
      },
      "execution_count": 3,
      "outputs": [
        {
          "output_type": "stream",
          "name": "stdout",
          "text": [
            "--2025-04-25 14:26:19--  https://github.com/imchihchao/aop113b/raw/main/materials/05-rich_menu.png\n",
            "Resolving github.com (github.com)... 140.82.121.4\n",
            "Connecting to github.com (github.com)|140.82.121.4|:443... connected.\n",
            "HTTP request sent, awaiting response... 302 Found\n",
            "Location: https://raw.githubusercontent.com/imchihchao/aop113b/main/materials/05-rich_menu.png [following]\n",
            "--2025-04-25 14:26:19--  https://raw.githubusercontent.com/imchihchao/aop113b/main/materials/05-rich_menu.png\n",
            "Resolving raw.githubusercontent.com (raw.githubusercontent.com)... 185.199.108.133, 185.199.109.133, 185.199.110.133, ...\n",
            "Connecting to raw.githubusercontent.com (raw.githubusercontent.com)|185.199.108.133|:443... connected.\n",
            "HTTP request sent, awaiting response... 200 OK\n",
            "Length: 64425 (63K) [image/png]\n",
            "Saving to: ‘rich_menu.png’\n",
            "\n",
            "rich_menu.png       100%[===================>]  62.92K  --.-KB/s    in 0.008s  \n",
            "\n",
            "2025-04-25 14:26:19 (7.84 MB/s) - ‘rich_menu.png’ saved [64425/64425]\n",
            "\n"
          ]
        }
      ]
    },
    {
      "cell_type": "code",
      "source": [
        "from google.colab import userdata\n",
        "\n",
        "from linebot.v3.messaging import (\n",
        "    Configuration, ApiClient, MessagingApi, MessagingApiBlob,\n",
        "    RichMenuSize,\n",
        "    RichMenuRequest,\n",
        "    RichMenuArea,\n",
        "    RichMenuBounds,\n",
        "    MessageAction,\n",
        "    URIAction,\n",
        "    DatetimePickerAction\n",
        ")\n",
        "\n",
        "configuration = Configuration(access_token=userdata.get('LINE_CHANNEL_ACCESS_TOKEN'))\n",
        "\n",
        "\n",
        "with ApiClient(configuration) as api_client:\n",
        "    line_bot_api = MessagingApi(api_client)\n",
        "    line_bot_blob_api = MessagingApiBlob(api_client)\n",
        "\n",
        "    # 建立 rich menu 請求\n",
        "    rich_menu_request = RichMenuRequest(\n",
        "        size=RichMenuSize(width=800, height=270),\n",
        "        selected=False,\n",
        "        name='My Rich Menu',\n",
        "        chatBarText='開啟選單',\n",
        "        areas=[\n",
        "            RichMenuArea(\n",
        "                bounds=RichMenuBounds(x=0, y=0, width=266, height=270),\n",
        "                action=URIAction(label='查看詳情', uri='https://zh.wikipedia.org/zh-tw/%E5%BC%B7%E9%A2%A8%E5%90%B9%E6%8B%82')\n",
        "            ),\n",
        "            RichMenuArea(\n",
        "                bounds=RichMenuBounds(x=266, y=0, width=267, height=270),\n",
        "                action=MessageAction(text=\"推薦熱血運動番強風吹拂\")\n",
        "            ),\n",
        "            RichMenuArea(\n",
        "                bounds=RichMenuBounds(x=533, y=0, width=267, height=270),\n",
        "                action=DatetimePickerAction(label=\"選擇時間\", data=\"action=richmenu\", mode=\"datetime\")\n",
        "            )\n",
        "        ]\n",
        "    )\n",
        "\n",
        "    # 創建 Rich Menu\n",
        "    rich_menu_id = line_bot_api.create_rich_menu(rich_menu_request=rich_menu_request).rich_menu_id\n",
        "    print(f\"Rich menu created with ID: {rich_menu_id}\")\n",
        "\n",
        "    with open('/content/rich_menu.png', 'rb') as image:\n",
        "        line_bot_blob_api.set_rich_menu_image(\n",
        "            rich_menu_id=rich_menu_id,\n",
        "            body=bytearray(image.read()),\n",
        "            _headers={'Content-Type': 'image/png'}\n",
        "        )\n",
        "\n",
        "    # 將 Rich Menu 設為預設\n",
        "    line_bot_api.set_default_rich_menu(rich_menu_id)\n",
        "\n"
      ],
      "metadata": {
        "colab": {
          "base_uri": "https://localhost:8080/"
        },
        "id": "3El04XsxV4xh",
        "outputId": "ae833afe-ddb8-4eea-ac7d-a03867521bba"
      },
      "execution_count": 9,
      "outputs": [
        {
          "output_type": "stream",
          "name": "stdout",
          "text": [
            "Rich menu created with ID: richmenu-db4c6aeb0ec50fb473d1c11d4f448bbb\n"
          ]
        }
      ]
    },
    {
      "cell_type": "code",
      "source": [
        "from google.colab import userdata\n",
        "\n",
        "from linebot.v3.messaging import Configuration, ApiClient, MessagingApi\n",
        "\n",
        "configuration = Configuration(access_token=userdata.get('LINE_CHANNEL_ACCESS_TOKEN'))\n",
        "\n",
        "with ApiClient(configuration) as api_client:\n",
        "    line_bot_api = MessagingApi(api_client)\n",
        "    # 刪除所有已建立的 Rich Menu\n",
        "    menus = line_bot_api.get_rich_menu_list().richmenus\n",
        "    for m in menus:\n",
        "        print(f\"刪除 Rich Menu: {m.rich_menu_id}\")\n",
        "        line_bot_api.delete_rich_menu(m.rich_menu_id)"
      ],
      "metadata": {
        "id": "MFVyNluNX6oQ",
        "colab": {
          "base_uri": "https://localhost:8080/"
        },
        "outputId": "0054c30a-12db-4579-db36-2f9dea355b08"
      },
      "execution_count": 8,
      "outputs": [
        {
          "output_type": "stream",
          "name": "stdout",
          "text": [
            "刪除 Rich Menu: richmenu-be54703cbe7249d6e2ac244a38ef038c\n"
          ]
        }
      ]
    },
    {
      "cell_type": "markdown",
      "source": [
        "## First Ver"
      ],
      "metadata": {
        "id": "pX7HRtJQ4gGs"
      }
    },
    {
      "cell_type": "code",
      "source": [
        "from google.colab import userdata\n",
        "from linebot import LineBotApi\n",
        "from linebot.models import (\n",
        "    RichMenu, RichMenuArea, RichMenuBounds,\n",
        "    MessageAction, URIAction, DatetimePickerAction\n",
        ")\n",
        "\n",
        "line_bot_api = LineBotApi(userdata.get('LINE_CHANNEL_ACCESS_TOKEN'))\n",
        "\n",
        "rich_menu_to_create = RichMenu(\n",
        "    size={\"width\": 800, \"height\": 540},\n",
        "    selected=True,\n",
        "    name=\"六格選單\",\n",
        "    chat_bar_text=\"開啟選單\",\n",
        "    areas=[\n",
        "        RichMenuArea(bounds=RichMenuBounds(x=0, y=0, width=266, height=270),\n",
        "                     action=URIAction(label='Pixabay', uri='https://pixabay.com/')),\n",
        "        RichMenuArea(bounds=RichMenuBounds(x=266, y=0, width=267, height=270),\n",
        "                     action=MessageAction(text=\"芙莉蓮超好看\")),\n",
        "        RichMenuArea(bounds=RichMenuBounds(x=533, y=0, width=267, height=270),\n",
        "                     action=MessageAction(text=\"圖文選單：我要傳位置\")),\n",
        "        RichMenuArea(bounds=RichMenuBounds(x=0, y=270, width=266, height=270),\n",
        "                     action=MessageAction(text=\"圖文選單：我要拍照\")),\n",
        "        RichMenuArea(bounds=RichMenuBounds(x=266, y=270, width=267, height=270),\n",
        "                     action=DatetimePickerAction(label=\"選擇時間\", data=\"時間\", mode=\"datetime\")),\n",
        "        RichMenuArea(bounds=RichMenuBounds(x=533, y=270, width=267, height=270),\n",
        "                     action=MessageAction(text=\"圖文選單：選擇照片\")),\n",
        "    ]\n",
        ")\n",
        "\n",
        "# 建立 Rich Menu\n",
        "rich_menu_id = line_bot_api.create_rich_menu(rich_menu_to_create)\n",
        "print(\"Rich Menu ID:\", rich_menu_id)\n",
        "\n",
        "# 上傳圖片（PNG 格式）\n",
        "with open(\"/content/rich_menu.png\", 'rb') as f:\n",
        "    line_bot_api.set_rich_menu_image(rich_menu_id, 'image/png', f)\n",
        "\n",
        "# 設為預設選單（可選）\n",
        "line_bot_api.set_default_rich_menu(rich_menu_id)\n"
      ],
      "metadata": {
        "colab": {
          "base_uri": "https://localhost:8080/"
        },
        "id": "n_sD_f4NUBHc",
        "outputId": "7460114f-39d8-4730-f54a-f6814400d19b"
      },
      "execution_count": null,
      "outputs": [
        {
          "output_type": "stream",
          "name": "stderr",
          "text": [
            "<ipython-input-9-8aab9860933b>:8: LineBotSdkDeprecatedIn30: Call to deprecated class LineBotApi. (Use v3 class; linebot.v3.<feature>. See https://github.com/line/line-bot-sdk-python/blob/master/README.rst for more details.) -- Deprecated since version 3.0.0.\n",
            "  line_bot_api = LineBotApi(userdata.get('LINE_CHANNEL_ACCESS_TOKEN'))\n",
            "<ipython-input-9-8aab9860933b>:32: LineBotSdkDeprecatedIn30: Call to deprecated method create_rich_menu. (Use 'from linebot.v3.messaging import MessagingApi' and 'MessagingApi(...).create_rich_menu(...)' instead. See https://github.com/line/line-bot-sdk-python/blob/master/README.rst for more details.) -- Deprecated since version 3.0.0.\n",
            "  rich_menu_id = line_bot_api.create_rich_menu(rich_menu_to_create)\n"
          ]
        },
        {
          "output_type": "stream",
          "name": "stdout",
          "text": [
            "Rich Menu ID: richmenu-44fbe030baa561ccc38eea018d1467af\n"
          ]
        },
        {
          "output_type": "stream",
          "name": "stderr",
          "text": [
            "<ipython-input-9-8aab9860933b>:37: LineBotSdkDeprecatedIn30: Call to deprecated method set_rich_menu_image. (Use 'from linebot.v3.messaging import MessagingApiBlob' and 'MessagingApiBlob.set_rich_menu_image(...)' instead. See https://github.com/line/line-bot-sdk-python/blob/master/README.rst for more details.) -- Deprecated since version 3.0.0.\n",
            "  line_bot_api.set_rich_menu_image(rich_menu_id, 'image/png', f)\n",
            "<ipython-input-9-8aab9860933b>:40: LineBotSdkDeprecatedIn30: Call to deprecated method set_default_rich_menu. (Use 'from linebot.v3.messaging import MessagingApi' and 'MessagingApi(...).set_default_rich_menu(...)' instead. See https://github.com/line/line-bot-sdk-python/blob/master/README.rst for more details.) -- Deprecated since version 3.0.0.\n",
            "  line_bot_api.set_default_rich_menu(rich_menu_id)\n"
          ]
        }
      ]
    },
    {
      "cell_type": "code",
      "source": [
        "# 刪除所有已建立的 Rich Menu\n",
        "menus = line_bot_api.get_rich_menu_list()\n",
        "for m in menus:\n",
        "    print(f\"刪除 Rich Menu: {m.rich_menu_id}\")\n",
        "    line_bot_api.delete_rich_menu(m.rich_menu_id)"
      ],
      "metadata": {
        "colab": {
          "base_uri": "https://localhost:8080/"
        },
        "id": "2_NKA3g9leJz",
        "outputId": "d8875823-9fc9-45a9-8aed-e5e8edd03624"
      },
      "execution_count": null,
      "outputs": [
        {
          "output_type": "stream",
          "name": "stderr",
          "text": [
            "<ipython-input-11-1560ba7184c9>:2: LineBotSdkDeprecatedIn30: Call to deprecated method get_rich_menu_list. (Use 'from linebot.v3.messaging import MessagingApi' and 'MessagingApi(...).get_rich_menu_list(...)' instead. See https://github.com/line/line-bot-sdk-python/blob/master/README.rst for more details.) -- Deprecated since version 3.0.0.\n",
            "  menus = line_bot_api.get_rich_menu_list()\n"
          ]
        }
      ]
    },
    {
      "cell_type": "code",
      "source": [
        "from flask import Flask, request, abort\n",
        "# for  colab\n",
        "from pyngrok import ngrok\n",
        "from flask_ngrok import run_with_ngrok\n",
        "from google.colab import userdata\n",
        "# for line bot\n",
        "from linebot import (\n",
        "    LineBotApi, WebhookHandler\n",
        ")\n",
        "from linebot.exceptions import (\n",
        "    InvalidSignatureError\n",
        ")\n",
        "from linebot.models import (\n",
        "    MessageEvent, TextMessage, TextSendMessage, MessageAction,\n",
        "    CameraAction, CameraRollAction, LocationAction,\n",
        "    QuickReply, QuickReplyButton\n",
        ")\n",
        "\n",
        "def ngrok_start():\n",
        "    ngrok.set_auth_token(userdata.get('NGROK_AUTHTOKEN'))\n",
        "    public_url = ngrok.connect(5000)\n",
        "    run_with_ngrok(app)\n",
        "\n",
        "app = Flask(__name__)\n",
        "ngrok_start()\n",
        "\n",
        "line_bot_api = LineBotApi(userdata.get('LINE_CHANNEL_ACCESS_TOKEN'))\n",
        "handler = WebhookHandler(userdata.get('LINE_CHANNEL_SECRET'))\n",
        "\n",
        "@app.route(\"/callback\", methods=['POST'])\n",
        "def callback():\n",
        "    signature = request.headers['X-Line-Signature']\n",
        "    body = request.get_data(as_text=True)\n",
        "    try:\n",
        "        handler.handle(body, signature)\n",
        "    except InvalidSignatureError:\n",
        "        print(\"Invalid signature. Please check your channel access token/channel secret.\")\n",
        "        abort(400)\n",
        "    return 'OK'\n",
        "\n",
        "@handler.add(MessageEvent, message=TextMessage)\n",
        "def handle_text(event):\n",
        "    # confirm template\n",
        "    if event.message.text == '圖文選單：我要傳位置':\n",
        "        reply = TextSendMessage(\n",
        "            text=\"請分享您的位置\",\n",
        "            quick_reply=QuickReply(\n",
        "                items=[QuickReplyButton(action=LocationAction(label=\"傳送位置\"))]\n",
        "            )\n",
        "        )\n",
        "    elif event.message.text == '圖文選單：我要拍照':\n",
        "        reply = TextSendMessage(\n",
        "            text=\"請拍照\",\n",
        "            quick_reply=QuickReply(\n",
        "                items=[QuickReplyButton(action=CameraAction(label=\"立即拍照\"))]\n",
        "            )\n",
        "        )\n",
        "    elif event.message.text == '圖文選單：選擇照片':\n",
        "        reply = TextSendMessage(\n",
        "            text=\"選擇照片\",\n",
        "            quick_reply=QuickReply(\n",
        "                items=[QuickReplyButton(action=CameraRollAction(label=\"選擇照片\"))]\n",
        "            )\n",
        "        )\n",
        "    else:\n",
        "        reply = TextSendMessage(text=event.message.text)\n",
        "    line_bot_api.reply_message(event.reply_token, reply)\n",
        "\n",
        "# 啟動 web server\n",
        "app.run()"
      ],
      "metadata": {
        "colab": {
          "base_uri": "https://localhost:8080/"
        },
        "id": "s_4liycnfKAE",
        "outputId": "89d7e450-f2f9-4c3d-8a64-cc6627ec694f"
      },
      "execution_count": null,
      "outputs": [
        {
          "metadata": {
            "tags": null
          },
          "name": "stdout",
          "output_type": "stream",
          "text": [
            ""
          ]
        },
        {
          "metadata": {
            "tags": null
          },
          "name": "stderr",
          "output_type": "stream",
          "text": [
            "<ipython-input-11-88e0f9213a0f>:27: LineBotSdkDeprecatedIn30: Call to deprecated class LineBotApi. (Use v3 class; linebot.v3.<feature>. See https://github.com/line/line-bot-sdk-python/blob/master/README.rst for more details.) -- Deprecated since version 3.0.0.\n",
            "  line_bot_api = LineBotApi(userdata.get('LINE_CHANNEL_ACCESS_TOKEN'))\n"
          ]
        },
        {
          "metadata": {
            "tags": null
          },
          "name": "stdout",
          "output_type": "stream",
          "text": [
            " * Serving Flask app '__main__'\n",
            " * Debug mode: off\n"
          ]
        },
        {
          "metadata": {
            "tags": null
          },
          "name": "stderr",
          "output_type": "stream",
          "text": [
            "<ipython-input-11-88e0f9213a0f>:28: LineBotSdkDeprecatedIn30: Call to deprecated class WebhookHandler. (Use 'from linebot.v3.webhook import WebhookHandler' instead. See https://github.com/line/line-bot-sdk-python/blob/master/README.rst for more details.) -- Deprecated since version 3.0.0.\n",
            "  handler = WebhookHandler(userdata.get('LINE_CHANNEL_SECRET'))\n",
            "INFO:werkzeug:\u001b[31m\u001b[1mWARNING: This is a development server. Do not use it in a production deployment. Use a production WSGI server instead.\u001b[0m\n",
            " * Running on http://127.0.0.1:5000\n",
            "INFO:werkzeug:\u001b[33mPress CTRL+C to quit\u001b[0m\n"
          ]
        },
        {
          "metadata": {
            "tags": null
          },
          "name": "stdout",
          "output_type": "stream",
          "text": [
            " * Running on http://5e03-34-31-36-33.ngrok-free.app\n",
            " * Traffic stats available on http://127.0.0.1:4040\n"
          ]
        },
        {
          "output_type": "stream",
          "name": "stderr",
          "text": [
            "INFO:werkzeug:127.0.0.1 - - [19/Apr/2025 14:50:49] \"\u001b[33mGET / HTTP/1.1\u001b[0m\" 404 -\n",
            "INFO:werkzeug:127.0.0.1 - - [19/Apr/2025 14:50:50] \"\u001b[33mGET /favicon.ico HTTP/1.1\u001b[0m\" 404 -\n",
            "INFO:werkzeug:127.0.0.1 - - [19/Apr/2025 14:51:08] \"POST /callback HTTP/1.1\" 200 -\n",
            "<ipython-input-11-88e0f9213a0f>:67: LineBotSdkDeprecatedIn30: Call to deprecated method reply_message. (Use 'from linebot.v3.messaging import MessagingApi' and 'MessagingApi(...).reply_message(...)' instead. See https://github.com/line/line-bot-sdk-python/blob/master/README.rst for more details.) -- Deprecated since version 3.0.0.\n",
            "  line_bot_api.reply_message(event.reply_token, reply)\n",
            "INFO:werkzeug:127.0.0.1 - - [19/Apr/2025 14:51:21] \"POST /callback HTTP/1.1\" 200 -\n",
            "INFO:werkzeug:127.0.0.1 - - [19/Apr/2025 14:51:25] \"POST /callback HTTP/1.1\" 200 -\n",
            "INFO:werkzeug:127.0.0.1 - - [19/Apr/2025 14:51:32] \"POST /callback HTTP/1.1\" 200 -\n",
            "INFO:werkzeug:127.0.0.1 - - [19/Apr/2025 14:51:35] \"POST /callback HTTP/1.1\" 200 -\n",
            "INFO:werkzeug:127.0.0.1 - - [19/Apr/2025 14:51:45] \"POST /callback HTTP/1.1\" 200 -\n",
            "INFO:werkzeug:127.0.0.1 - - [19/Apr/2025 14:51:57] \"POST /callback HTTP/1.1\" 200 -\n",
            "INFO:werkzeug:127.0.0.1 - - [19/Apr/2025 15:06:49] \"\u001b[33mGET / HTTP/1.1\u001b[0m\" 404 -\n",
            "WARNING:pyngrok.process.ngrok:t=2025-04-19T15:07:11+0000 lvl=warn msg=\"Stopping forwarder\" name=http-5000-157ee37f-336d-4fdd-b8d8-d81b455f1d09 acceptErr=\"failed to accept connection: Listener closed\"\n",
            "WARNING:pyngrok.process.ngrok:t=2025-04-19T15:07:11+0000 lvl=warn msg=\"Error restarting forwarder\" name=http-5000-157ee37f-336d-4fdd-b8d8-d81b455f1d09 err=\"failed to start tunnel: session closed\"\n"
          ]
        }
      ]
    }
  ]
}