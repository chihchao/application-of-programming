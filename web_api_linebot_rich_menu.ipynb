{
  "nbformat": 4,
  "nbformat_minor": 0,
  "metadata": {
    "colab": {
      "provenance": [],
      "authorship_tag": "ABX9TyPf+Wr2+3vsOv+ORUc3NM4r",
      "include_colab_link": true
    },
    "kernelspec": {
      "name": "python3",
      "display_name": "Python 3"
    },
    "language_info": {
      "name": "python"
    }
  },
  "cells": [
    {
      "cell_type": "markdown",
      "metadata": {
        "id": "view-in-github",
        "colab_type": "text"
      },
      "source": [
        "<a href=\"https://colab.research.google.com/github/chihchao/application-of-programming/blob/main/web_api_linebot_rich_menu.ipynb\" target=\"_parent\"><img src=\"https://colab.research.google.com/assets/colab-badge.svg\" alt=\"Open In Colab\"/></a>"
      ]
    },
    {
      "cell_type": "code",
      "execution_count": 1,
      "metadata": {
        "colab": {
          "base_uri": "https://localhost:8080/"
        },
        "id": "Lm2PBrwfT2_n",
        "outputId": "93f294de-fc2a-40d4-bf8a-8e96d6a4f59b"
      },
      "outputs": [
        {
          "output_type": "stream",
          "name": "stdout",
          "text": [
            "\u001b[?25l   \u001b[90m━━━━━━━━━━━━━━━━━━━━━━━━━━━━━━━━━━━━━━━━\u001b[0m \u001b[32m0.0/779.9 kB\u001b[0m \u001b[31m?\u001b[0m eta \u001b[36m-:--:--\u001b[0m\r\u001b[2K   \u001b[91m━━━━━━━━━━━━━━━━━━━━━━━━━━━━━━\u001b[0m\u001b[90m╺\u001b[0m\u001b[90m━━━━━━━━━\u001b[0m \u001b[32m593.9/779.9 kB\u001b[0m \u001b[31m17.8 MB/s\u001b[0m eta \u001b[36m0:00:01\u001b[0m\r\u001b[2K   \u001b[90m━━━━━━━━━━━━━━━━━━━━━━━━━━━━━━━━━━━━━━━━\u001b[0m \u001b[32m779.9/779.9 kB\u001b[0m \u001b[31m13.9 MB/s\u001b[0m eta \u001b[36m0:00:00\u001b[0m\n",
            "\u001b[?25h\u001b[?25l   \u001b[90m━━━━━━━━━━━━━━━━━━━━━━━━━━━━━━━━━━━━━━━━\u001b[0m \u001b[32m0.0/137.6 kB\u001b[0m \u001b[31m?\u001b[0m eta \u001b[36m-:--:--\u001b[0m\r\u001b[2K   \u001b[90m━━━━━━━━━━━━━━━━━━━━━━━━━━━━━━━━━━━━━━━━\u001b[0m \u001b[32m137.6/137.6 kB\u001b[0m \u001b[31m9.2 MB/s\u001b[0m eta \u001b[36m0:00:00\u001b[0m\n",
            "\u001b[?25h"
          ]
        }
      ],
      "source": [
        "!pip install -q flask pyngrok flask_ngrok line-bot-sdk"
      ]
    },
    {
      "cell_type": "code",
      "source": [
        "from google.colab import userdata\n",
        "from linebot import LineBotApi\n",
        "from linebot.models import (\n",
        "    RichMenu, RichMenuArea, RichMenuBounds,\n",
        "    MessageAction, URIAction, DatetimePickerAction\n",
        ")\n",
        "\n",
        "line_bot_api = LineBotApi(userdata.get('LINE_CHANNEL_ACCESS_TOKEN'))\n",
        "\n",
        "rich_menu_to_create = RichMenu(\n",
        "    size={\"width\": 800, \"height\": 540},\n",
        "    selected=True,\n",
        "    name=\"六格選單\",\n",
        "    chat_bar_text=\"開啟選單\",\n",
        "    areas=[\n",
        "        RichMenuArea(bounds=RichMenuBounds(x=0, y=0, width=266, height=270),\n",
        "                     action=URIAction(label='Pixabay', uri='https://pixabay.com/')),\n",
        "        RichMenuArea(bounds=RichMenuBounds(x=266, y=0, width=267, height=270),\n",
        "                     action=MessageAction(text=\"芙莉蓮超好看\")),\n",
        "        RichMenuArea(bounds=RichMenuBounds(x=533, y=0, width=267, height=270),\n",
        "                     action=MessageAction(text=\"圖文選單：我要傳位置\")),\n",
        "        RichMenuArea(bounds=RichMenuBounds(x=0, y=270, width=266, height=270),\n",
        "                     action=MessageAction(text=\"圖文選單：我要拍照\")),\n",
        "        RichMenuArea(bounds=RichMenuBounds(x=266, y=270, width=267, height=270),\n",
        "                     action=DatetimePickerAction(label=\"選擇時間\", data=\"時間\", mode=\"datetime\")),\n",
        "        RichMenuArea(bounds=RichMenuBounds(x=533, y=270, width=267, height=270),\n",
        "                     action=MessageAction(text=\"圖文選單：選擇照片\")),\n",
        "    ]\n",
        ")\n",
        "\n",
        "# 建立 Rich Menu\n",
        "rich_menu_id = line_bot_api.create_rich_menu(rich_menu_to_create)\n",
        "print(\"Rich Menu ID:\", rich_menu_id)\n",
        "\n",
        "# 上傳圖片（PNG 格式）\n",
        "with open(\"/content/05-rich_menu.png\", 'rb') as f:\n",
        "    line_bot_api.set_rich_menu_image(rich_menu_id, 'image/png', f)\n",
        "\n",
        "# 設為預設選單（可選）\n",
        "line_bot_api.set_default_rich_menu(rich_menu_id)\n"
      ],
      "metadata": {
        "colab": {
          "base_uri": "https://localhost:8080/"
        },
        "id": "n_sD_f4NUBHc",
        "outputId": "1f5a4dc1-5586-48d5-fd7a-2ecf7a60ed06"
      },
      "execution_count": 10,
      "outputs": [
        {
          "output_type": "stream",
          "name": "stderr",
          "text": [
            "<ipython-input-10-f8ccb8e78054>:8: LineBotSdkDeprecatedIn30: Call to deprecated class LineBotApi. (Use v3 class; linebot.v3.<feature>. See https://github.com/line/line-bot-sdk-python/blob/master/README.rst for more details.) -- Deprecated since version 3.0.0.\n",
            "  line_bot_api = LineBotApi(userdata.get('LINE_CHANNEL_ACCESS_TOKEN'))\n",
            "<ipython-input-10-f8ccb8e78054>:32: LineBotSdkDeprecatedIn30: Call to deprecated method create_rich_menu. (Use 'from linebot.v3.messaging import MessagingApi' and 'MessagingApi(...).create_rich_menu(...)' instead. See https://github.com/line/line-bot-sdk-python/blob/master/README.rst for more details.) -- Deprecated since version 3.0.0.\n",
            "  rich_menu_id = line_bot_api.create_rich_menu(rich_menu_to_create)\n"
          ]
        },
        {
          "output_type": "stream",
          "name": "stdout",
          "text": [
            "Rich Menu ID: richmenu-bc52662bb2cf036fc0fdf1df560a4ba9\n"
          ]
        },
        {
          "output_type": "stream",
          "name": "stderr",
          "text": [
            "<ipython-input-10-f8ccb8e78054>:37: LineBotSdkDeprecatedIn30: Call to deprecated method set_rich_menu_image. (Use 'from linebot.v3.messaging import MessagingApiBlob' and 'MessagingApiBlob.set_rich_menu_image(...)' instead. See https://github.com/line/line-bot-sdk-python/blob/master/README.rst for more details.) -- Deprecated since version 3.0.0.\n",
            "  line_bot_api.set_rich_menu_image(rich_menu_id, 'image/png', f)\n",
            "<ipython-input-10-f8ccb8e78054>:40: LineBotSdkDeprecatedIn30: Call to deprecated method set_default_rich_menu. (Use 'from linebot.v3.messaging import MessagingApi' and 'MessagingApi(...).set_default_rich_menu(...)' instead. See https://github.com/line/line-bot-sdk-python/blob/master/README.rst for more details.) -- Deprecated since version 3.0.0.\n",
            "  line_bot_api.set_default_rich_menu(rich_menu_id)\n"
          ]
        }
      ]
    },
    {
      "cell_type": "code",
      "source": [
        "# 刪除所有已建立的 Rich Menu\n",
        "menus = line_bot_api.get_rich_menu_list()\n",
        "for m in menus:\n",
        "    print(f\"刪除 Rich Menu: {m.rich_menu_id}\")\n",
        "    line_bot_api.delete_rich_menu(m.rich_menu_id)"
      ],
      "metadata": {
        "colab": {
          "base_uri": "https://localhost:8080/"
        },
        "id": "MFVyNluNX6oQ",
        "outputId": "90ecd3f2-de44-4c7e-e0c1-4df2e3c25708"
      },
      "execution_count": 9,
      "outputs": [
        {
          "output_type": "stream",
          "name": "stderr",
          "text": [
            "<ipython-input-9-1560ba7184c9>:2: LineBotSdkDeprecatedIn30: Call to deprecated method get_rich_menu_list. (Use 'from linebot.v3.messaging import MessagingApi' and 'MessagingApi(...).get_rich_menu_list(...)' instead. See https://github.com/line/line-bot-sdk-python/blob/master/README.rst for more details.) -- Deprecated since version 3.0.0.\n",
            "  menus = line_bot_api.get_rich_menu_list()\n"
          ]
        },
        {
          "output_type": "stream",
          "name": "stdout",
          "text": [
            "刪除 Rich Menu: richmenu-38cac8dd3bceb99e385e0aab5386e99a\n"
          ]
        },
        {
          "output_type": "stream",
          "name": "stderr",
          "text": [
            "<ipython-input-9-1560ba7184c9>:5: LineBotSdkDeprecatedIn30: Call to deprecated method delete_rich_menu. (Use 'from linebot.v3.messaging import MessagingApi' and 'MessagingApi(...).delete_rich_menu(...)' instead. See https://github.com/line/line-bot-sdk-python/blob/master/README.rst for more details.) -- Deprecated since version 3.0.0.\n",
            "  line_bot_api.delete_rich_menu(m.rich_menu_id)\n"
          ]
        }
      ]
    },
    {
      "cell_type": "code",
      "source": [
        "from flask import Flask, request, abort\n",
        "# for  colab\n",
        "from pyngrok import ngrok\n",
        "from flask_ngrok import run_with_ngrok\n",
        "from google.colab import userdata\n",
        "# for line bot\n",
        "from linebot import (\n",
        "    LineBotApi, WebhookHandler\n",
        ")\n",
        "from linebot.exceptions import (\n",
        "    InvalidSignatureError\n",
        ")\n",
        "from linebot.models import (\n",
        "    MessageEvent, TextMessage, TextSendMessage, MessageAction,\n",
        "    CameraAction, CameraRollAction, LocationAction,\n",
        "    QuickReply, QuickReplyButton\n",
        ")\n",
        "\n",
        "def ngrok_start():\n",
        "    ngrok.set_auth_token(userdata.get('NGROK_AUTHTOKEN'))\n",
        "    public_url = ngrok.connect(5000)\n",
        "    run_with_ngrok(app)\n",
        "\n",
        "app = Flask(__name__)\n",
        "ngrok_start()\n",
        "\n",
        "line_bot_api = LineBotApi(userdata.get('LINE_CHANNEL_ACCESS_TOKEN'))\n",
        "handler = WebhookHandler(userdata.get('LINE_CHANNEL_SECRET'))\n",
        "\n",
        "@app.route(\"/callback\", methods=['POST'])\n",
        "def callback():\n",
        "    signature = request.headers['X-Line-Signature']\n",
        "    body = request.get_data(as_text=True)\n",
        "    try:\n",
        "        handler.handle(body, signature)\n",
        "    except InvalidSignatureError:\n",
        "        print(\"Invalid signature. Please check your channel access token/channel secret.\")\n",
        "        abort(400)\n",
        "    return 'OK'\n",
        "\n",
        "@handler.add(MessageEvent, message=TextMessage)\n",
        "def handle_text(event):\n",
        "    # confirm template\n",
        "    if event.message.text == '圖文選單：我要傳位置':\n",
        "        reply = TextSendMessage(\n",
        "            text=\"請分享您的位置\",\n",
        "            quick_reply=QuickReply(\n",
        "                items=[QuickReplyButton(action=LocationAction(label=\"傳送位置\"))]\n",
        "            )\n",
        "        )\n",
        "    elif event.message.text == '圖文選單：我要拍照':\n",
        "        reply = TextSendMessage(\n",
        "            text=\"請拍照\",\n",
        "            quick_reply=QuickReply(\n",
        "                items=[QuickReplyButton(action=CameraAction(label=\"立即拍照\"))]\n",
        "            )\n",
        "        )\n",
        "    elif event.message.text == '圖文選單：選擇照片':\n",
        "        reply = TextSendMessage(\n",
        "            text=\"選擇照片\",\n",
        "            quick_reply=QuickReply(\n",
        "                items=[QuickReplyButton(action=CameraRollAction(label=\"選擇照片\"))]\n",
        "            )\n",
        "        )\n",
        "    else:\n",
        "        reply = TextSendMessage(text=event.message.text)\n",
        "    line_bot_api.reply_message(event.reply_token, reply)\n",
        "\n",
        "# 啟動 web server\n",
        "app.run()"
      ],
      "metadata": {
        "colab": {
          "base_uri": "https://localhost:8080/"
        },
        "id": "s_4liycnfKAE",
        "outputId": "89d7e450-f2f9-4c3d-8a64-cc6627ec694f"
      },
      "execution_count": 11,
      "outputs": [
        {
          "metadata": {
            "tags": null
          },
          "name": "stdout",
          "output_type": "stream",
          "text": [
            ""
          ]
        },
        {
          "metadata": {
            "tags": null
          },
          "name": "stderr",
          "output_type": "stream",
          "text": [
            "<ipython-input-11-88e0f9213a0f>:27: LineBotSdkDeprecatedIn30: Call to deprecated class LineBotApi. (Use v3 class; linebot.v3.<feature>. See https://github.com/line/line-bot-sdk-python/blob/master/README.rst for more details.) -- Deprecated since version 3.0.0.\n",
            "  line_bot_api = LineBotApi(userdata.get('LINE_CHANNEL_ACCESS_TOKEN'))\n"
          ]
        },
        {
          "metadata": {
            "tags": null
          },
          "name": "stdout",
          "output_type": "stream",
          "text": [
            " * Serving Flask app '__main__'\n",
            " * Debug mode: off\n"
          ]
        },
        {
          "metadata": {
            "tags": null
          },
          "name": "stderr",
          "output_type": "stream",
          "text": [
            "<ipython-input-11-88e0f9213a0f>:28: LineBotSdkDeprecatedIn30: Call to deprecated class WebhookHandler. (Use 'from linebot.v3.webhook import WebhookHandler' instead. See https://github.com/line/line-bot-sdk-python/blob/master/README.rst for more details.) -- Deprecated since version 3.0.0.\n",
            "  handler = WebhookHandler(userdata.get('LINE_CHANNEL_SECRET'))\n",
            "INFO:werkzeug:\u001b[31m\u001b[1mWARNING: This is a development server. Do not use it in a production deployment. Use a production WSGI server instead.\u001b[0m\n",
            " * Running on http://127.0.0.1:5000\n",
            "INFO:werkzeug:\u001b[33mPress CTRL+C to quit\u001b[0m\n"
          ]
        },
        {
          "metadata": {
            "tags": null
          },
          "name": "stdout",
          "output_type": "stream",
          "text": [
            " * Running on http://5e03-34-31-36-33.ngrok-free.app\n",
            " * Traffic stats available on http://127.0.0.1:4040\n"
          ]
        },
        {
          "output_type": "stream",
          "name": "stderr",
          "text": [
            "INFO:werkzeug:127.0.0.1 - - [19/Apr/2025 14:50:49] \"\u001b[33mGET / HTTP/1.1\u001b[0m\" 404 -\n",
            "INFO:werkzeug:127.0.0.1 - - [19/Apr/2025 14:50:50] \"\u001b[33mGET /favicon.ico HTTP/1.1\u001b[0m\" 404 -\n",
            "INFO:werkzeug:127.0.0.1 - - [19/Apr/2025 14:51:08] \"POST /callback HTTP/1.1\" 200 -\n",
            "<ipython-input-11-88e0f9213a0f>:67: LineBotSdkDeprecatedIn30: Call to deprecated method reply_message. (Use 'from linebot.v3.messaging import MessagingApi' and 'MessagingApi(...).reply_message(...)' instead. See https://github.com/line/line-bot-sdk-python/blob/master/README.rst for more details.) -- Deprecated since version 3.0.0.\n",
            "  line_bot_api.reply_message(event.reply_token, reply)\n",
            "INFO:werkzeug:127.0.0.1 - - [19/Apr/2025 14:51:21] \"POST /callback HTTP/1.1\" 200 -\n",
            "INFO:werkzeug:127.0.0.1 - - [19/Apr/2025 14:51:25] \"POST /callback HTTP/1.1\" 200 -\n",
            "INFO:werkzeug:127.0.0.1 - - [19/Apr/2025 14:51:32] \"POST /callback HTTP/1.1\" 200 -\n",
            "INFO:werkzeug:127.0.0.1 - - [19/Apr/2025 14:51:35] \"POST /callback HTTP/1.1\" 200 -\n",
            "INFO:werkzeug:127.0.0.1 - - [19/Apr/2025 14:51:45] \"POST /callback HTTP/1.1\" 200 -\n",
            "INFO:werkzeug:127.0.0.1 - - [19/Apr/2025 14:51:57] \"POST /callback HTTP/1.1\" 200 -\n",
            "INFO:werkzeug:127.0.0.1 - - [19/Apr/2025 15:06:49] \"\u001b[33mGET / HTTP/1.1\u001b[0m\" 404 -\n",
            "WARNING:pyngrok.process.ngrok:t=2025-04-19T15:07:11+0000 lvl=warn msg=\"Stopping forwarder\" name=http-5000-157ee37f-336d-4fdd-b8d8-d81b455f1d09 acceptErr=\"failed to accept connection: Listener closed\"\n",
            "WARNING:pyngrok.process.ngrok:t=2025-04-19T15:07:11+0000 lvl=warn msg=\"Error restarting forwarder\" name=http-5000-157ee37f-336d-4fdd-b8d8-d81b455f1d09 err=\"failed to start tunnel: session closed\"\n"
          ]
        }
      ]
    }
  ]
}